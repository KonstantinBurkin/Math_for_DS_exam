{
  "nbformat": 4,
  "nbformat_minor": 0,
  "metadata": {
    "colab": {
      "name": "Optimisation_algorithms_supplementary.ipynb",
      "provenance": [],
      "collapsed_sections": [],
      "authorship_tag": "ABX9TyNBt/MEi8X4XyL4N+QSB3lB",
      "include_colab_link": true
    },
    "kernelspec": {
      "name": "python3",
      "display_name": "Python 3"
    },
    "language_info": {
      "name": "python"
    }
  },
  "cells": [
    {
      "cell_type": "markdown",
      "metadata": {
        "id": "view-in-github",
        "colab_type": "text"
      },
      "source": [
        "<a href=\"https://colab.research.google.com/github/KonstantinBurkin/Math_for_DS_exam/blob/main/Optimisation_algorithms_supplementary.ipynb\" target=\"_parent\"><img src=\"https://colab.research.google.com/assets/colab-badge.svg\" alt=\"Open In Colab\"/></a>"
      ]
    },
    {
      "cell_type": "code",
      "execution_count": null,
      "metadata": {
        "id": "FOQQ8m8KhNha"
      },
      "outputs": [],
      "source": [
        "# for embedding plotly graphs\n",
        "# plotly.offline.init_notebook_mode(connected=True)"
      ]
    },
    {
      "cell_type": "code",
      "source": [
        "from google.colab import drive\n",
        "import IPython"
      ],
      "metadata": {
        "id": "6dYz4W9shXah"
      },
      "execution_count": null,
      "outputs": []
    },
    {
      "cell_type": "code",
      "source": [
        "drive.mount('/content/gdrive')"
      ],
      "metadata": {
        "id": "rQgyjJb3hYgj"
      },
      "execution_count": null,
      "outputs": []
    },
    {
      "cell_type": "code",
      "source": [
        "%%shell\n",
        "jupyter nbconvert /content/gdrive/MyDrive/'Colab Notebooks'/Optimisation_algorithms.ipynb  --to html --no-input --template basic --output-dir='/content'\n",
        "\n",
        "# generate html from ipynb \n",
        "# --no-input for hiding code"
      ],
      "metadata": {
        "id": "8VH_kYQnhafX"
      },
      "execution_count": null,
      "outputs": []
    },
    {
      "cell_type": "code",
      "source": [
        "# show generated html below\n",
        "IPython.display.HTML(filename='./Optimisation_algorithms.html')"
      ],
      "metadata": {
        "id": "Llte2KC3heUa"
      },
      "execution_count": null,
      "outputs": []
    },
    {
      "cell_type": "code",
      "source": [
        "# instead of the code higher I use this code:\n",
        "\n",
        "<html>\n",
        "  <head>\n",
        "  <link rel=\"stylesheet\" href=\"https://cdn.jsdelivr.net/npm/katex@0.11.1/dist/katex.min.css\" integrity=\"sha384-zB1R0rpPzHqg7Kpt0Aljp8JPLqbXI3bhnPWROx27a9N0Ll6ZP/+DiW/UqRcLbRjq\" crossorigin=\"anonymous\">\n",
        "    <script type=\"text/javascript\" async=\"\" src=\"https://cdnjs.cloudflare.com/ajax/libs/mathjax/2.7.4/MathJax.js?config=TeX-MML-AM_CHTML\"></script>\n",
        "  <script defer src=\"https://cdn.jsdelivr.net/npm/katex@0.11.1/dist/katex.min.js\" integrity=\"sha384-y23I5Q6l+B6vatafAwxRu/0oK/79VlbSz7Q9aiSZUvyWYIYsd+qj+o24G5ZU2zJz\" crossorigin=\"anonymous\"></script>\n",
        "  <script defer src=\"https://cdn.jsdelivr.net/npm/katex@0.11.1/dist/contrib/auto-render.min.js\" integrity=\"sha384-kWPLUVMOks5AQFrykwIup5lo0m3iMkkHrD0uJ4H5cjeGihAutqP0yW0J6dpFiVkI\" crossorigin=\"anonymous\" onload=\"renderMathInElement(document.body);\"></script>\n",
        "    <title>Optimisation algorithms</title>\n",
        "    <style>\n",
        "      @import url('https://fonts.googleapis.com/css2?family=Nunito:ital,wght@0,400;0,500;0,600;1,400&display=swap');\n",
        "      @media screen and (min-width:1000px) {\n",
        "      body{\n",
        "            margin-left: 20vh; \n",
        "            margin-right: 20vh;\n",
        "            font-size: 18px;\n",
        "            font-family: 'Nunito', sans-serif;\n",
        "                  }}\n",
        "      @media screen and (max-width:1000px) {\n",
        "        body{\n",
        "            margin-left: 2vh; \n",
        "            margin-right: 2vh;\n",
        "            font-size: 30px;\n",
        "            font-family: 'Nunito', sans-serif;\n",
        "                  }\n",
        "              }\n",
        "      @media screen and (min-width:1800px) {\n",
        "        body{\n",
        "            margin-left: 30vh; \n",
        "            margin-right: 30vh;\n",
        "            font-size: 18px;\n",
        "            font-family: 'Nunito', sans-serif;\n",
        "                  }\n",
        "              }\n",
        "    </style>\n",
        "  </head>"
      ],
      "metadata": {
        "id": "_FyQYY83hjLB"
      },
      "execution_count": null,
      "outputs": []
    }
  ]
}