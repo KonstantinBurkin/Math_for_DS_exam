{
  "cells": [
    {
      "cell_type": "markdown",
      "metadata": {
        "id": "view-in-github",
        "colab_type": "text"
      },
      "source": [
        "<a href=\"https://colab.research.google.com/github/KonstantinBurkin/Math_for_DS_exam/blob/main/math_for_DS_exam.ipynb\" target=\"_parent\"><img src=\"https://colab.research.google.com/assets/colab-badge.svg\" alt=\"Open In Colab\"/></a>"
      ]
    },
    {
      "cell_type": "code",
      "execution_count": 151,
      "metadata": {
        "id": "6xyOe8u_O8Gh"
      },
      "outputs": [],
      "source": [
        "import numpy as np\n",
        "import scipy.optimize as scopt\n",
        "import matplotlib.pyplot as plt\n",
        "\n",
        "import jax.numpy as jnp\n",
        "import jax\n",
        "from jax.config import config                       # нужно импортировать!\n",
        "config.update(\"jax_enable_x64\", True)               # нужно импортировать!"
      ]
    },
    {
      "cell_type": "code",
      "execution_count": 152,
      "metadata": {
        "id": "N_mxFTdLOxj5"
      },
      "outputs": [],
      "source": [
        "np.random.seed(0)\n",
        "\n",
        "m = 100\n",
        "n = 10\n",
        "A = np.random.randn(m, n) # сгенерированная матрица\n",
        "b = np.random.randn(m)    # сгенерированный вектор\n",
        "\n",
        "x0 = jax.numpy.zeros(n)   # начальное приближение\n",
        "eps = 1e-4                # точность расчета\n",
        "alpha = 1e-4              # размер шага\n",
        "num_iter = 2000           # максимальное количество итераций"
      ]
    },
    {
      "cell_type": "code",
      "execution_count": 153,
      "metadata": {
        "id": "jeM7AGgUMZtP"
      },
      "outputs": [],
      "source": [
        "f = lambda x: (jax.numpy.linalg.norm(A@x - b))**3\n",
        "gradf = jax.grad(f)"
      ]
    },
    {
      "cell_type": "code",
      "execution_count": 154,
      "metadata": {
        "id": "PTwIepSjOzM8"
      },
      "outputs": [],
      "source": [
        "def grad_descent(f, grad, x0, num_iter, eps, alpha):\n",
        "    x = x0.copy()\n",
        "    conv = [x]\n",
        "    norm = []\n",
        "    for i in range(num_iter):\n",
        "        h = -grad(x)\n",
        "        norm.append(np.linalg.norm(h))\n",
        "        if jnp.linalg.norm(h) < eps:\n",
        "            break\n",
        "        x = x + alpha * h\n",
        "        conv.append(x)\n",
        "    return x, conv, i, norm"
      ]
    },
    {
      "cell_type": "code",
      "execution_count": 158,
      "metadata": {
        "colab": {
          "base_uri": "https://localhost:8080/",
          "height": 317
        },
        "id": "eVRuuTllQLz-",
        "outputId": "1a0d2a5f-3082-4d77-8d48-338b833bc372"
      },
      "outputs": [
        {
          "output_type": "stream",
          "name": "stdout",
          "text": [
            "87\n",
            "88\n"
          ]
        },
        {
          "output_type": "execute_result",
          "data": {
            "text/plain": [
              "[<matplotlib.lines.Line2D at 0x7fe2f06bb450>]"
            ]
          },
          "metadata": {},
          "execution_count": 158
        },
        {
          "output_type": "display_data",
          "data": {
            "text/plain": [
              "<Figure size 432x288 with 1 Axes>"
            ],
            "image/png": "[encoded data removed]"
          },
          "metadata": {
            "needs_background": "light"
          }
        }
      ],
      "source": [
        "x_gd, conv_gd, i_gd, norm = grad_descent(f, gradf, x0, num_iter, eps, alpha)\n",
        "print(i_gd)\n",
        "print(len(conv_gd))\n",
        "plt.semilogy([x for x in norm])"
      ]
    },
    {
      "cell_type": "code",
      "source": [
        "# все работает и правильный ответ с функцией:\n",
        "# f = lambda x: (jax.numpy.linalg.norm(A@x - b))**3\n",
        "def heavy_ball(f, grad, x0, num_iter, eps, alpha, beta):\n",
        "    x = x0.copy()\n",
        "    conv = [x.copy()]\n",
        "    prev_x = None\n",
        "    for i in range(num_iter):\n",
        "        h = -grad(x)\n",
        "        if jax.numpy.linalg.norm(h) < eps:\n",
        "          break\n",
        "        if prev_x is None:\n",
        "            prev_x = x\n",
        "            x = x + alpha * h\n",
        "        else:\n",
        "            x, prev_x = x + alpha * h + beta * (x - prev_x), x\n",
        "        conv.append(x.copy())\n",
        "    return x, conv, i\n",
        "\n",
        "x_star, conv_gd, i = heavy_ball(f, gradf, x0, num_iter, eps, alpha, beta=0.5)\n",
        "print(i)\n",
        "print(len(conv_gd))\n",
        "plt.plot([f(x) for x in conv_gd])"
      ],
      "metadata": {
        "colab": {
          "base_uri": "https://localhost:8080/",
          "height": 317
        },
        "id": "fmwIj_NS87O_",
        "outputId": "d4b88353-1f7d-43ed-fd6d-57bb561a15cc"
      },
      "execution_count": 157,
      "outputs": [
        {
          "output_type": "stream",
          "name": "stdout",
          "text": [
            "46\n",
            "47\n"
          ]
        },
        {
          "output_type": "execute_result",
          "data": {
            "text/plain": [
              "[<matplotlib.lines.Line2D at 0x7fe2f0785e10>]"
            ]
          },
          "metadata": {},
          "execution_count": 157
        },
        {
          "output_type": "display_data",
          "data": {
            "text/plain": [
              "<Figure size 432x288 with 1 Axes>"
            ],
            "image/png": "[encoded data removed]"
          },
          "metadata": {
            "needs_background": "light"
          }
        }
      ]
    },
    {
      "cell_type": "code",
      "source": [
        ""
      ],
      "metadata": {
        "id": "83bpu1_PEV6l"
      },
      "execution_count": null,
      "outputs": []
    }
  ],
  "metadata": {
    "colab": {
      "collapsed_sections": [],
      "name": "math_for_DS_exam.ipynb",
      "provenance": [],
      "authorship_tag": "ABX9TyPSq9b6vVqYy4imjoAdmhKv",
      "include_colab_link": true
    },
    "kernelspec": {
      "display_name": "Python 3",
      "name": "python3"
    },
    "language_info": {
      "name": "python"
    }
  },
  "nbformat": 4,
  "nbformat_minor": 0
}