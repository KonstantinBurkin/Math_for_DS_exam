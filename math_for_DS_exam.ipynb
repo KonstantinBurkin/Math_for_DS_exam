{
  "cells": [
    {
      "cell_type": "markdown",
      "metadata": {
        "id": "view-in-github",
        "colab_type": "text"
      },
      "source": [
        "<a href=\"https://colab.research.google.com/github/KonstantinBurkin/Math_for_DS_exam/blob/main/math_for_DS_exam.ipynb\" target=\"_parent\"><img src=\"https://colab.research.google.com/assets/colab-badge.svg\" alt=\"Open In Colab\"/></a>"
      ]
    },
    {
      "cell_type": "markdown",
      "source": [
        "#\"Math for Data Science\" exam\n",
        "\n",
        "The introduction course to math for data science, MSU Fall 2021 - Spring 2022\n",
        "\n",
        "https://github.com/amkatrutsa/msu_intro_ds2021"
      ],
      "metadata": {
        "id": "EfHyH6gL4WTT"
      }
    },
    {
      "cell_type": "markdown",
      "source": [
        "##Import packages"
      ],
      "metadata": {
        "id": "aljykGx038IT"
      }
    },
    {
      "cell_type": "code",
      "execution_count": 14,
      "metadata": {
        "id": "6xyOe8u_O8Gh"
      },
      "outputs": [],
      "source": [
        "import numpy as np\n",
        "import scipy.optimize as scopt\n",
        "import matplotlib.pyplot as plt\n",
        "\n",
        "import jax.numpy as jnp\n",
        "import jax\n",
        "from jax.config import config                       \n",
        "config.update(\"jax_enable_x64\", True)               # provides float64 precision"
      ]
    },
    {
      "cell_type": "markdown",
      "source": [
        "##Conditions of the problem"
      ],
      "metadata": {
        "id": "BeBU3VlG4FRM"
      }
    },
    {
      "cell_type": "code",
      "execution_count": 15,
      "metadata": {
        "id": "N_mxFTdLOxj5"
      },
      "outputs": [],
      "source": [
        "np.random.seed(0)\n",
        "\n",
        "m = 100\n",
        "n = 10\n",
        "A = np.random.randn(m, n) # сгенерированная матрица\n",
        "b = np.random.randn(m)    # сгенерированный вектор\n",
        "\n",
        "x0 = jax.numpy.zeros(n)   # начальное приближение\n",
        "eps = 1e-4                # точность расчета\n",
        "alpha = 1e-4              # размер шага\n",
        "num_iter = 2000           # максимальное количество итераций\n",
        "\n",
        "f = lambda x: (jax.numpy.linalg.norm(A@x - b))**3\n",
        "gradf = jax.grad(f)"
      ]
    },
    {
      "cell_type": "markdown",
      "source": [
        "##1. Calculate number of iterations for gradient descent"
      ],
      "metadata": {
        "id": "1kUbyeOM7O-L"
      }
    },
    {
      "cell_type": "code",
      "execution_count": 19,
      "metadata": {
        "id": "PTwIepSjOzM8",
        "colab": {
          "base_uri": "https://localhost:8080/",
          "height": 282
        },
        "outputId": "390ebad3-1e73-47a8-936f-606b434ef7ab"
      },
      "outputs": [
        {
          "output_type": "stream",
          "name": "stdout",
          "text": [
            "88\n"
          ]
        },
        {
          "output_type": "display_data",
          "data": {
            "text/plain": [
              "<Figure size 432x288 with 1 Axes>"
            ],
            "image/png": "[encoded data removed]"
          },
          "metadata": {
            "needs_background": "light"
          }
        }
      ],
      "source": [
        "# 1. Количество итераций\n",
        "\n",
        "def grad_descent(f, grad, x0, num_iter, eps, alpha):\n",
        "    x = x0.copy()\n",
        "    conv = [x]\n",
        "    norm_gd = []\n",
        "    for i in range(num_iter):\n",
        "        h = -grad(x)\n",
        "        norm_gd.append(np.linalg.norm(h))\n",
        "        if jnp.linalg.norm(h) < eps:\n",
        "            break\n",
        "        x = x + alpha * h\n",
        "        conv.append(x)\n",
        "    return x, conv, i, norm_gd\n",
        "\n",
        "x_gd, conv_gd, i_gd, norm_gd = grad_descent(f, gradf, x0, num_iter, eps, alpha)\n",
        "print(\"Ответ: \",i_gd+1)             # +1 тк отсчет с 0\n",
        "plt.semilogy([x for x in norm_gd]); plt.show()  # уменьшение нормы градиента функции"
      ]
    },
    {
      "cell_type": "markdown",
      "source": [
        "##2. Calculate number of iterations for heavy ball method"
      ],
      "metadata": {
        "id": "kUL-vUXY7fTv"
      }
    },
    {
      "cell_type": "code",
      "source": [
        "# 2. Метод тяжелого шарика\n",
        "\n",
        "def heavy_ball(f, grad, x0, num_iter, eps, alpha, beta):\n",
        "    x = x0.copy()\n",
        "    conv = [x.copy()]\n",
        "    prev_x = None\n",
        "    for i in range(num_iter):\n",
        "        h = -grad(x)\n",
        "        if jax.numpy.linalg.norm(h) < eps:\n",
        "          break\n",
        "        if prev_x is None:\n",
        "            prev_x = x\n",
        "            x = x + alpha * h\n",
        "        else:\n",
        "            x, prev_x = x + alpha * h + beta * (x - prev_x), x\n",
        "        conv.append(x.copy())\n",
        "    return x, conv, i\n",
        "\n",
        "x_star, conv_gd, i = heavy_ball(f, gradf, x0, num_iter, eps, alpha, beta=0.5)\n",
        "print(\"Ответ: \",i+1)              # +1 тк отсчет с 0\n",
        "plt.plot([f(x) for x in conv_gd]); plt.show()"
      ],
      "metadata": {
        "colab": {
          "base_uri": "https://localhost:8080/",
          "height": 282
        },
        "id": "fmwIj_NS87O_",
        "outputId": "5fc1621c-5942-49eb-ae6d-4910a1353004"
      },
      "execution_count": 18,
      "outputs": [
        {
          "output_type": "stream",
          "name": "stdout",
          "text": [
            "47\n"
          ]
        },
        {
          "output_type": "display_data",
          "data": {
            "text/plain": [
              "<Figure size 432x288 with 1 Axes>"
            ],
            "image/png": "[encoded data removed]"
          },
          "metadata": {
            "needs_background": "light"
          }
        }
      ]
    },
    {
      "cell_type": "markdown",
      "source": [
        "##3. Calculate number of iterations for accelerated gradient descent method"
      ],
      "metadata": {
        "id": "3AJ6vlVm7weM"
      }
    },
    {
      "cell_type": "code",
      "source": [
        "alpha = 3e-4              # размер шага\n",
        "\n",
        "def accelerated_gd(f, grad, x0, num_iter, eps, alpha):\n",
        "    x = x0.copy()\n",
        "    y = x0.copy()\n",
        "    conv = [x]\n",
        "    norm_acc_gd = []\n",
        "    prev_x = None\n",
        "    for i in range(num_iter):\n",
        "        h = -grad(y)\n",
        "        norm_acc_gd.append(np.linalg.norm(h))\n",
        "        if np.linalg.norm(h) < eps:\n",
        "            break\n",
        "        if prev_x is None:\n",
        "            prev_x = x.copy()\n",
        "            x = y + alpha * h\n",
        "        else:\n",
        "            x, prev_x = y + alpha * h, x\n",
        "        \n",
        "        y = x + (i+1.) / (i+4.) * (x - prev_x)\n",
        "            \n",
        "        conv.append(x)\n",
        "    return x, conv, i, norm_acc_gd\n",
        "\n",
        "\n",
        "x_acc_gd, conv_acc_gd, i_acc_gd, norm_acc_gd = accelerated_gd(f, gradf, x0, num_iter, eps, alpha)\n",
        "print(\"Ответ: \",i_acc_gd+2)\n",
        "# print(len(conv_acc_gd))\n",
        "# plt.semilogy([f(x) for x in conv_acc_gd])  # уменьшение функции\n",
        "plt.semilogy([x for x in norm_acc_gd]); plt.show()  # уменьшение нормы градиента функции"
      ],
      "metadata": {
        "colab": {
          "base_uri": "https://localhost:8080/",
          "height": 282
        },
        "id": "83bpu1_PEV6l",
        "outputId": "78bad1ba-9f8e-454a-bcd8-076e7911d2e7"
      },
      "execution_count": 21,
      "outputs": [
        {
          "output_type": "stream",
          "name": "stdout",
          "text": [
            "Ответ:  34\n"
          ]
        },
        {
          "output_type": "display_data",
          "data": {
            "text/plain": [
              "<Figure size 432x288 with 1 Axes>"
            ],
            "image/png": "[encoded data removed]"
          },
          "metadata": {
            "needs_background": "light"
          }
        }
      ]
    },
    {
      "cell_type": "code",
      "source": [
        "# \n",
        "\n",
        "def accelerated_gd_restart(f, grad, x0, num_iter, eps, alpha):\n",
        "    x = x0.copy()\n",
        "    y = x0.copy()\n",
        "    conv = [x]\n",
        "    prev_x = None\n",
        "    for i in range(num_iter):\n",
        "        h = -grad(y)\n",
        "        if np.linalg.norm(h) < eps:\n",
        "            break\n",
        "        if prev_x is None:\n",
        "            prev_x = x.copy()\n",
        "            x = y + alpha * h\n",
        "        else:\n",
        "            x, prev_x = y + alpha * h, x\n",
        "        if f(x) < f(prev_x):\n",
        "            y = x + (i+1.) / (i+4.) * (x - prev_x)\n",
        "        else:\n",
        "            y = prev_x.copy()\n",
        "            prev_x = None\n",
        "            \n",
        "        conv.append(x)\n",
        "    return x, conv, i\n",
        "\n",
        "x_acc_gd, conv_acc_gd, i_acc_gd = accelerated_gd_restart(f, gradf, x0, num_iter, eps, alpha)\n",
        "print(\"Ответ: \",i_acc_gd+1)\n",
        "# plt.semilogy([f(x) for x in conv_acc_gd])  # уменьшение нормы градиента функции\n",
        "plt.semilogy([x for x in norm_acc_gd]); plt.show()  # уменьшение нормы градиента функции"
      ],
      "metadata": {
        "colab": {
          "base_uri": "https://localhost:8080/",
          "height": 282
        },
        "id": "p4rBypSbgbat",
        "outputId": "27e16c98-e878-4224-e9d9-a77814716277"
      },
      "execution_count": 22,
      "outputs": [
        {
          "output_type": "stream",
          "name": "stdout",
          "text": [
            "Ответ:  34\n"
          ]
        },
        {
          "output_type": "display_data",
          "data": {
            "text/plain": [
              "<Figure size 432x288 with 1 Axes>"
            ],
            "image/png": "[encoded data removed]"
          },
          "metadata": {
            "needs_background": "light"
          }
        }
      ]
    },
    {
      "cell_type": "markdown",
      "source": [
        "##4. Calculate the iteration when Newton method begins to stagnate"
      ],
      "metadata": {
        "id": "6WG_RkIH77Vv"
      }
    },
    {
      "cell_type": "markdown",
      "source": [
        "Какая скорость сходимости метода Ньютона по норме градиента наблюдается?\n",
        "- Линейная"
      ],
      "metadata": {
        "id": "08gqTMd-0RPf"
      }
    },
    {
      "cell_type": "code",
      "source": [
        "# 4. Стагнация в методе Ньютона\n",
        "\n",
        "from jax.config import config                       \n",
        "config.update(\"jax_enable_x64\", False)               # возвращаю в float32\n",
        "\n",
        "np.random.seed(0)\n",
        "\n",
        "m = 100\n",
        "n = 10\n",
        "A = np.random.randn(m, n) # сгенерированная матрица\n",
        "b = np.random.randn(m)    # сгенерированный вектор\n",
        "\n",
        "x0 = jax.numpy.zeros(n)   # начальное приближение\n",
        "eps = 1e-4                # точность расчета\n",
        "alpha = 1e-1              # размер шага\n",
        "num_iter = 500           # максимальное количество итераций\n",
        "\n",
        "f = lambda x: (jax.numpy.linalg.norm(A@x - b))**3\n",
        "gradf = jax.grad(f)\n",
        "\n",
        "# 4. Стагнация в методе Ньютона\n",
        "# https://en.wikipedia.org/wiki/Newton%27s_method_in_optimization#Higher_dimensions\n",
        "def newton_minimize(f, gradf, hessf, x0, alpha, num_iter):\n",
        "    x = x0.copy()\n",
        "    conv = [x]\n",
        "    norm = []\n",
        "    prev_norm = None\n",
        "    for i in range(num_iter):\n",
        "        H = hessf(x)\n",
        "        g = gradf(x)\n",
        "        x = x - alpha * jax.numpy.linalg.solve(H, g)\n",
        "\n",
        "        norm.append(np.linalg.norm(g))\n",
        "\n",
        "        if norm[-1] == prev_norm:\n",
        "            # на данном этапе прошло на одну итерацию больше, тк требуемая норма получена на предыдущем шаге\n",
        "            # но так как отсчет i велся с 0, то значение i на данном моменте равно номеру итерации\n",
        "            break\n",
        "\n",
        "        prev_norm = norm[-1]\n",
        "        conv.append(x)\n",
        "    return x, conv, norm, i\n",
        "\n",
        "hess = jax.hessian(f)\n",
        "x, conv, norm, i = newton_minimize(f, gradf, hess, x0, alpha, num_iter)\n",
        "print(\"\\nМне кажется, что ответ такой: \",i, \"\\n\")\n",
        "plt.semilogy([x for x in norm]); plt.show()"
      ],
      "metadata": {
        "colab": {
          "base_uri": "https://localhost:8080/",
          "height": 334
        },
        "id": "iIalUgbC0T0d",
        "outputId": "d530f453-1d34-42d9-cbaf-b09abc23f8f0"
      },
      "execution_count": 23,
      "outputs": [
        {
          "output_type": "stream",
          "name": "stdout",
          "text": [
            "145\n",
            "\n",
            "Мне кажется, что ответ такой:  144 \n",
            "\n"
          ]
        },
        {
          "output_type": "display_data",
          "data": {
            "text/plain": [
              "<Figure size 432x288 with 1 Axes>"
            ],
            "image/png": "[encoded data removed]"
          },
          "metadata": {
            "needs_background": "light"
          }
        }
      ]
    },
    {
      "cell_type": "code",
      "source": [
        ""
      ],
      "metadata": {
        "id": "i-s3dX4S0dYf"
      },
      "execution_count": null,
      "outputs": []
    }
  ],
  "metadata": {
    "colab": {
      "collapsed_sections": [
        "aljykGx038IT",
        "BeBU3VlG4FRM",
        "1kUbyeOM7O-L",
        "kUL-vUXY7fTv",
        "3AJ6vlVm7weM",
        "6WG_RkIH77Vv"
      ],
      "name": "math_for_DS_exam.ipynb",
      "provenance": [],
      "authorship_tag": "ABX9TyNIC+Jf/p49uAl+uBUowpOP",
      "include_colab_link": true
    },
    "kernelspec": {
      "display_name": "Python 3",
      "name": "python3"
    },
    "language_info": {
      "name": "python"
    }
  },
  "nbformat": 4,
  "nbformat_minor": 0
}