{
  "cells": [
    {
      "cell_type": "markdown",
      "metadata": {
        "id": "view-in-github",
        "colab_type": "text"
      },
      "source": [
        "<a href=\"https://colab.research.google.com/github/KonstantinBurkin/Math_for_DS_exam/blob/main/math_for_DS_exam.ipynb\" target=\"_parent\"><img src=\"https://colab.research.google.com/assets/colab-badge.svg\" alt=\"Open In Colab\"/></a>"
      ]
    },
    {
      "cell_type": "markdown",
      "source": [
        "#\"Math for Data Science\" exam\n",
        "\n",
        "The introduction course to math for data science, MSU Fall 2021 - Spring 2022. Link to course [here](https://github.com/MSUcourses/Data-Analysis-with-Python/tree/main/Math) or [here](https://github.com/amkatrutsa/msu_intro_ds2021)."
      ],
      "metadata": {
        "id": "EfHyH6gL4WTT"
      }
    },
    {
      "cell_type": "markdown",
      "source": [
        "##Import packages"
      ],
      "metadata": {
        "id": "aljykGx038IT"
      }
    },
    {
      "cell_type": "code",
      "execution_count": null,
      "metadata": {
        "id": "6xyOe8u_O8Gh"
      },
      "outputs": [],
      "source": [
        "import numpy as np\n",
        "import scipy.optimize as scopt\n",
        "import matplotlib.pyplot as plt\n",
        "\n",
        "import jax.numpy as jnp\n",
        "import jax\n",
        "from jax.config import config                       \n",
        "config.update(\"jax_enable_x64\", True)               # provides float64 accuracy"
      ]
    },
    {
      "cell_type": "markdown",
      "source": [
        "##Conditions of the problem"
      ],
      "metadata": {
        "id": "BeBU3VlG4FRM"
      }
    },
    {
      "cell_type": "markdown",
      "source": [
        "Solve following function minimization problems\n",
        "\n",
        "Function: $f(x)\\ =\\ ∣∣Ax−b∣∣^3_{2}$\n",
        "\n",
        "\n",
        "\n",
        "The initial approximation is the zero vector."
      ],
      "metadata": {
        "id": "5zJSnQkYTHTL"
      }
    },
    {
      "cell_type": "code",
      "execution_count": null,
      "metadata": {
        "id": "N_mxFTdLOxj5",
        "colab": {
          "base_uri": "https://localhost:8080/"
        },
        "outputId": "e8c331aa-de51-4644-d9aa-18f4a77ef51a"
      },
      "outputs": [
        {
          "output_type": "stream",
          "name": "stderr",
          "text": [
            "WARNING:absl:No GPU/TPU found, falling back to CPU. (Set TF_CPP_MIN_LOG_LEVEL=0 and rerun for more info.)\n"
          ]
        }
      ],
      "source": [
        "np.random.seed(0)\n",
        "\n",
        "m = 100\n",
        "n = 10\n",
        "A = np.random.randn(m, n)     # generate matrix \n",
        "b = np.random.randn(m)        # generate vector\n",
        "\n",
        "x0 = jax.numpy.zeros(n)       # initial approximation\n",
        "eps = 1e-4                    # accuracy\n",
        "alpha = 1e-4                  # constant step \n",
        "num_iter = 2000               # max number of iterations\n",
        "\n",
        "f = lambda x: (jax.numpy.linalg.norm(A@x - b))**3\n",
        "gradf = jax.grad(f)"
      ]
    },
    {
      "cell_type": "markdown",
      "source": [
        "##1. Calculate number of iterations for gradient descent"
      ],
      "metadata": {
        "id": "1kUbyeOM7O-L"
      }
    },
    {
      "cell_type": "markdown",
      "source": [
        "How many iterations does the gradient descent method with a constant step=1e-4 take to achieve an accuracy in gradient norm less than 1e-4?"
      ],
      "metadata": {
        "id": "UARzDFRmSAQV"
      }
    },
    {
      "cell_type": "code",
      "execution_count": null,
      "metadata": {
        "id": "PTwIepSjOzM8",
        "colab": {
          "base_uri": "https://localhost:8080/",
          "height": 329
        },
        "outputId": "dff0e9be-693b-4660-f8ae-05e27c033eae"
      },
      "outputs": [
        {
          "output_type": "stream",
          "name": "stdout",
          "text": [
            "Answer:  88  iterations\n",
            "\n"
          ]
        },
        {
          "output_type": "display_data",
          "data": {
            "text/plain": [
              "<Figure size 432x288 with 1 Axes>"
            ],
            "image/png": "[encoded data removed]"
          },
          "metadata": {
            "needs_background": "dark"
          }
        }
      ],
      "source": [
        "def grad_descent(f, grad, x0, num_iter, eps, alpha):\n",
        "    x = x0.copy()\n",
        "    conv = [x]\n",
        "    norm_gd = []\n",
        "    for i in range(num_iter):\n",
        "        h = -grad(x)\n",
        "        norm_gd.append(np.linalg.norm(h))\n",
        "        if jnp.linalg.norm(h) < eps:\n",
        "            break\n",
        "        x = x + alpha * h\n",
        "        conv.append(x)\n",
        "    return x, conv, i, norm_gd\n",
        "\n",
        "x_gd, conv_gd, i_gd, norm_gd = grad_descent(f, gradf, x0, num_iter, eps, alpha)\n",
        "print(\"Answer: \",i_gd+1, \" iterations\\n\")             # +1 b/c count from 0\n",
        "\n",
        "# plot the convergence of gradient norm\n",
        "plt.semilogy([x for x in norm_gd])\n",
        "plt.title(\"Convergence of gradient norm\")\n",
        "plt.xlabel('Iterations')\n",
        "plt.ylabel('log (Gradient norm)')\n",
        "plt.yticks(color='grey'); plt.xticks(color='grey')\n",
        "plt.show()      "
      ]
    },
    {
      "cell_type": "markdown",
      "source": [
        "##2. Calculate number of iterations for heavy ball method"
      ],
      "metadata": {
        "id": "kUL-vUXY7fTv"
      }
    },
    {
      "cell_type": "markdown",
      "source": [
        "How many iterations does the heavy ball method with a constant step=1e-4 and coefficient β=0.5 take to achieve an accuracy in the gradient norm less than 1e-4?"
      ],
      "metadata": {
        "id": "h7d1lRB8YQu-"
      }
    },
    {
      "cell_type": "code",
      "source": [
        "def heavy_ball(f, grad, x0, num_iter, eps, alpha, beta):\n",
        "    x = x0.copy()\n",
        "    conv = [x.copy()]\n",
        "    prev_x = None\n",
        "    norm_hb = []\n",
        "    for i in range(num_iter):\n",
        "        h = -grad(x)\n",
        "        norm_hb.append(np.linalg.norm(h))\n",
        "        if jax.numpy.linalg.norm(h) < eps:\n",
        "          break\n",
        "        if prev_x is None:\n",
        "            prev_x = x\n",
        "            x = x + alpha * h\n",
        "        else:\n",
        "            x, prev_x = x + alpha * h + beta * (x - prev_x), x\n",
        "        conv.append(x.copy())\n",
        "    return x, conv, i, norm_hb\n",
        "\n",
        "x, conv_hb, i, norm_hb = heavy_ball(f, gradf, x0, num_iter, eps, alpha, beta=0.5)\n",
        "print(\"Answer: \",i+1, \" iterations\\n\")              # +1 b/c count from 0\n",
        "\n",
        "# plot the convergence of gradient norm\n",
        "plt.semilogy([x for x in norm_hb])\n",
        "plt.title(\"Convergence of gradient norm\")\n",
        "plt.xlabel('Iterations')\n",
        "plt.ylabel('log (Gradient norm)')\n",
        "plt.yticks(color='grey'); plt.xticks(color='grey')\n",
        "plt.show()    "
      ],
      "metadata": {
        "colab": {
          "base_uri": "https://localhost:8080/",
          "height": 329
        },
        "id": "fmwIj_NS87O_",
        "outputId": "f2e506ea-3590-4e41-fb12-990162683623"
      },
      "execution_count": null,
      "outputs": [
        {
          "output_type": "stream",
          "name": "stdout",
          "text": [
            "Answer:  47  iterations\n",
            "\n"
          ]
        },
        {
          "output_type": "display_data",
          "data": {
            "text/plain": [
              "<Figure size 432x288 with 1 Axes>"
            ],
            "image/png": "[encoded data removed]"
          },
          "metadata": {
            "needs_background": "dark"
          }
        }
      ]
    },
    {
      "cell_type": "markdown",
      "source": [
        "##3. Calculate number of iterations for accelerated gradient descent method"
      ],
      "metadata": {
        "id": "3AJ6vlVm7weM"
      }
    },
    {
      "cell_type": "markdown",
      "source": [
        "How many iterations does the accelerated gradient method with a constant step=3e-4 take to achieve an accuracy in gradient norm less than 1e-4? Note at what point you need to calculate the gradient to evaluate the accuracy."
      ],
      "metadata": {
        "id": "vxohusnmZsXh"
      }
    },
    {
      "cell_type": "code",
      "source": [
        "alpha = 3e-4              # new step\n",
        "\n",
        "def accelerated_gd(f, grad, x0, num_iter, eps, alpha):\n",
        "    x = x0.copy()\n",
        "    y = x0.copy()\n",
        "    conv = [x]\n",
        "    norm_acc_gd = []\n",
        "    prev_x = None\n",
        "    for i in range(num_iter):\n",
        "        h = -grad(y)\n",
        "        norm_acc_gd.append(np.linalg.norm(h))\n",
        "        if np.linalg.norm(h) < eps:\n",
        "            break\n",
        "        if prev_x is None:\n",
        "            prev_x = x.copy()\n",
        "            x = y + alpha * h\n",
        "        else:\n",
        "            x, prev_x = y + alpha * h, x\n",
        "        \n",
        "        y = x + (i+1.) / (i+4.) * (x - prev_x)\n",
        "            \n",
        "        conv.append(x)\n",
        "    return x, conv, i, norm_acc_gd\n",
        "\n",
        "\n",
        "x_acc_gd, conv_acc_gd, i_acc_gd, norm_acc_gd = accelerated_gd(f, gradf, x0, num_iter, eps, alpha)\n",
        "print(\"Answer: \",i_acc_gd+1, \" iterations\\n\")             # +1 b/c count from 0\n",
        "\n",
        "# plot the convergence of gradient norm\n",
        "plt.semilogy([x for x in norm_acc_gd])\n",
        "plt.title(\"Convergence of gradient norm\")\n",
        "plt.xlabel('Iterations')\n",
        "plt.ylabel('log (Gradient norm)')\n",
        "plt.yticks(color='grey'); plt.xticks(color='grey')\n",
        "plt.show()     "
      ],
      "metadata": {
        "colab": {
          "base_uri": "https://localhost:8080/",
          "height": 329
        },
        "id": "83bpu1_PEV6l",
        "outputId": "5441835b-3484-47b6-8886-32b0a76dbc06"
      },
      "execution_count": null,
      "outputs": [
        {
          "output_type": "stream",
          "name": "stdout",
          "text": [
            "Answer:  33  iterations\n",
            "\n"
          ]
        },
        {
          "output_type": "display_data",
          "data": {
            "text/plain": [
              "<Figure size 432x288 with 1 Axes>"
            ],
            "image/png": "[encoded data removed]"
          },
          "metadata": {
            "needs_background": "dark"
          }
        }
      ]
    },
    {
      "cell_type": "markdown",
      "source": [
        "##4. Calculate the iteration when Newton method begins to stagnate"
      ],
      "metadata": {
        "id": "6WG_RkIH77Vv"
      }
    },
    {
      "cell_type": "markdown",
      "source": [
        "After how many iterations does Newton's method with a constant step=1e-1 begins to stagnate, that is, the gradient norm stops changing? In your answer, indicate the number of iteration k such that the value of the gradient norm at the next iteration k+1 remains the same.\n",
        "\n",
        "What rate of convergence of Newton's method is observed in the norm of the gradient?"
      ],
      "metadata": {
        "id": "08gqTMd-0RPf"
      }
    },
    {
      "cell_type": "code",
      "source": [
        "from jax.config import config                       \n",
        "config.update(\"jax_enable_x64\", False)               # set back to float32\n",
        "\n",
        "np.random.seed(0)\n",
        "\n",
        "m = 100\n",
        "n = 10\n",
        "A = np.random.randn(m, n)     # generate matrix \n",
        "b = np.random.randn(m)        # generate vector\n",
        "\n",
        "x0 = jax.numpy.zeros(n)       # initial approximation\n",
        "eps = 1e-4                    # accuracy\n",
        "alpha = 1e-1                  # constant step \n",
        "num_iter = 500               # max number of iterations\n",
        "\n",
        "f = lambda x: (jax.numpy.linalg.norm(A@x - b))**3\n",
        "gradf = jax.grad(f)\n",
        "\n",
        "\n",
        "# https://en.wikipedia.org/wiki/Newton%27s_method_in_optimization#Higher_dimensions\n",
        "def newton_minimize(f, gradf, hessf, x0, alpha, num_iter):\n",
        "    x = x0.copy()\n",
        "    conv = [x]\n",
        "    norm = []\n",
        "    prev_norm = None\n",
        "    for i in range(num_iter):\n",
        "        H = hessf(x)\n",
        "        g = gradf(x)\n",
        "        x = x - alpha * jax.numpy.linalg.solve(H, g)\n",
        "\n",
        "        norm.append(np.linalg.norm(g))\n",
        "\n",
        "        if norm[-1] == prev_norm:\n",
        "            # -1 b/c started to stagnate on previous step\n",
        "            # +1 b/c count from 0\n",
        "            break\n",
        "\n",
        "        prev_norm = norm[-1]\n",
        "        conv.append(x)\n",
        "    return x, conv, norm, i\n",
        "\n",
        "hess = jax.hessian(f)\n",
        "x, conv, norm, i = newton_minimize(f, gradf, hess, x0, alpha, num_iter)\n",
        "print(\"Answer: \",i, \"iteration\\n\")\n",
        "\n",
        "# plot the convergence of gradient norm\n",
        "plt.semilogy([x for x in norm])\n",
        "plt.title(\"Convergence of gradient norm\")\n",
        "plt.xlabel('Iterations')\n",
        "plt.ylabel('log (Gradient norm)')\n",
        "plt.yticks(color='grey'); plt.xticks(color='grey')\n",
        "plt.show()      "
      ],
      "metadata": {
        "colab": {
          "base_uri": "https://localhost:8080/",
          "height": 329
        },
        "id": "iIalUgbC0T0d",
        "outputId": "d6c99956-e81a-4921-8575-c133ed7cf0f1"
      },
      "execution_count": null,
      "outputs": [
        {
          "output_type": "stream",
          "name": "stdout",
          "text": [
            "Answer:  144 iteration\n",
            "\n"
          ]
        },
        {
          "output_type": "display_data",
          "data": {
            "text/plain": [
              "<Figure size 432x288 with 1 Axes>"
            ],
            "image/png": "[encoded data removed]"
          },
          "metadata": {
            "needs_background": "dark"
          }
        }
      ]
    },
    {
      "cell_type": "markdown",
      "source": [
        "The rate of convergence  in the norm of the gradient is linear."
      ],
      "metadata": {
        "id": "uqq_9ChRafaA"
      }
    }
  ],
  "metadata": {
    "colab": {
      "collapsed_sections": [
        "kUL-vUXY7fTv",
        "3AJ6vlVm7weM"
      ],
      "name": "math_for_DS_exam.ipynb",
      "provenance": [],
      "authorship_tag": "ABX9TyNILd4MDY1rD6V0unmNp0Aq",
      "include_colab_link": true
    },
    "kernelspec": {
      "display_name": "Python 3",
      "name": "python3"
    },
    "language_info": {
      "name": "python"
    }
  },
  "nbformat": 4,
  "nbformat_minor": 0
}