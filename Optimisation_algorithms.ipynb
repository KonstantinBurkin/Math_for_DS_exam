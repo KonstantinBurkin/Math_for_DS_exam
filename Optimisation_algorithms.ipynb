{
  "cells": [
    {
      "cell_type": "markdown",
      "metadata": {
        "id": "view-in-github",
        "colab_type": "text"
      },
      "source": [
        "<a href=\"https://colab.research.google.com/github/KonstantinBurkin/Math_for_DS_exam/blob/main/Optimisation_algorithms.ipynb\" target=\"_parent\"><img src=\"https://colab.research.google.com/assets/colab-badge.svg\" alt=\"Open In Colab\"/></a>"
      ]
    },
    {
      "cell_type": "markdown",
      "source": [
        "<br>\n",
        "<center><h1>Optimisation algorithms</h1></center>\n",
        "<br>"
      ],
      "metadata": {
        "id": "t44VhIJv6j__"
      }
    },
    {
      "cell_type": "markdown",
      "source": [
        "<center><h3>Konstantin Burkin</h3></center>"
      ],
      "metadata": {
        "id": "RZWJQClJ6_Bu"
      }
    },
    {
      "cell_type": "markdown",
      "source": [
        "<center> <i>27 March 2022 </i> </center>"
      ],
      "metadata": {
        "id": "5eU6CCqF6s3c"
      }
    },
    {
      "cell_type": "markdown",
      "source": [
        "<br>  \n",
        "<h2>Table of contents</h2> \n",
        "\n",
        "---\n",
        "- <a href=#Introduction>Introduction</a> <br>\n",
        "  - <a href=#Brief-outline>Brief outline</a> <br>\n",
        "- <a href=#Import-of-data-and-Python-libraries>Setup of notebook environment</a> <br>\n",
        "  - <a href=#Conditions-of-the-problem>Conditions of the problem</a> <br>\n",
        "- <a href=#Gradient-descent>1. Gradient descent</a> <br>\n",
        "- <a href=#Heavy-ball-method>2. Heavy ball method</a> <br>\n",
        "- <a href=#Accelerated-gradient-descent>3. Accelerated gradient descent</a> <br>\n",
        "- <a href=#Newton-method>4. Newton method</a> <br>\n",
        "- <a href=#Results>Results</a> <br>"
      ],
      "metadata": {
        "id": "0glpi2lW7D79"
      }
    },
    {
      "cell_type": "markdown",
      "source": [
        "<br> \n",
        "<h2 id=\"Introduction\">Introduction</h2>  \n",
        "\n",
        "--- "
      ],
      "metadata": {
        "id": "9VMmyreS7zTR"
      }
    },
    {
      "cell_type": "markdown",
      "source": [
        "<div align=\"justify\">This work was created and submitted as an exam for MSU course \"Math for Data Science\" in spring semester 2022. The project was written in <a href=\"https://https://colab.research.google.com\">Google Colab</a>, using Python <i>version 3.7.13</i>. This work is available in <a href=\"https://github.com/KonstantinBurkin/Math_for_DS_exam\">my Github repository</a>, where it is possible to download Colab Notebook and see the code.</div> <br>\n",
        "\n",
        "<div align=\"justify\">The goal is to solve 4 problems and submit the result to the <a href=\"https://contest.yandex.ru/\">Yandex.contest</a> platform. It was required to program optimisation algorithms (gradient descent, heavy ball method, accelarated gradient descent, Newton method) and calculate the number of iterations needed to meet the condition of the problem.\n",
        "\n",
        "<br>  \n",
        "\n",
        "<h3 id=\"Brief-outline\">Brief outline</h3> \n",
        "\n",
        "<ul>\n",
        "  <li>Data import, setting up notebook environment: import of libraries and setting up double-precision floating-point format (64 bit).</li>\n",
        "  <li>Description of function and initial conditions</li>\n",
        "  <li>Brief description of gradient descent, the problem conditions and the solution to the problem</li>\n",
        "  <li>Brief description of heavy ball method, the problem conditions and the solution to the problem</li>\n",
        "  <li>Brief description of accelerated gradient descent, the problem conditions and the solution to the problem</li>\n",
        "  <li>Brief description of Newton method, the problem conditions and the solution to the problem</li>\n",
        "</ul> \n",
        "\n",
        "</div> "
      ],
      "metadata": {
        "id": "YZJdUPYA74wZ"
      }
    },
    {
      "cell_type": "markdown",
      "source": [
        "<br> \n",
        "<h2 id=\"Import-of-data-and-Python-libraries\">Setup of notebook environment</h2>  \n",
        "\n",
        "--- "
      ],
      "metadata": {
        "id": "aljykGx038IT"
      }
    },
    {
      "cell_type": "code",
      "execution_count": 1,
      "metadata": {
        "id": "6xyOe8u_O8Gh"
      },
      "outputs": [],
      "source": [
        "# Import libraries\n",
        "import numpy as np\n",
        "import scipy.optimize as scopt\n",
        "import warnings\n",
        "import jax.numpy as jnp\n",
        "import jax\n",
        "from jax.config import config\n",
        "import plotly\n",
        "import plotly.express as px\n",
        "from plotly.subplots import make_subplots\n",
        "import plotly.graph_objects as go\n",
        "\n",
        "# Settings configuration\n",
        "warnings.filterwarnings('ignore')                      \n",
        "config.update(\"jax_enable_x64\", True)               # provides float64 accuracy"
      ]
    },
    {
      "cell_type": "markdown",
      "source": [
        "<div align=\"justify\">The following data analysis includes several Python libraries for data analysis, builduing ML models, ploting data, etc: </div>  \n",
        "\n",
        "- Numpy\n",
        "- Scipy\n",
        "- Jax\n",
        "- Plotly\n",
        "\n",
        "<div align=\"justify\">The environment of the notebook was set to float64 precision.</div>\n",
        "<br>  \n",
        "\n",
        "<h3 id=\"Conditions-of-the-problem\">Conditions of the problem</h3> \n",
        "\n",
        "<div align=\"justify\">\n",
        "Objective: Solve 4 problems using the example of the \\(f(x)\\) function minimization.<br><br>\n",
        "$$f(x)\\ =\\ ∣∣Ax−b∣∣^3_{2} $$<br>  \n",
        "m = 100, n = 10, np.random.seed(0);<br>\n",
        "Generate matrix: A = np.random.randn(m, n).<br>\n",
        "Generate matrix: b = np.random.randn(m).<br>\n",
        "The initial approximation is the zero vector: \\(x_0\\) = jax.numpy.zeros(n) <br>\n",
        "</div>\n",
        "  \n",
        "<!-- Function: $f(x)\\ =\\ ∣∣Ax−b∣∣^3_{2}$ -->"
      ],
      "metadata": {
        "id": "UekR8t-39pwS"
      }
    },
    {
      "cell_type": "code",
      "execution_count": null,
      "metadata": {
        "id": "N_mxFTdLOxj5"
      },
      "outputs": [],
      "source": [
        "# conditions of the problem\n",
        "\n",
        "np.random.seed(0)\n",
        "\n",
        "m = 100\n",
        "n = 10\n",
        "A = np.random.randn(m, n)     # generate matrix \n",
        "b = np.random.randn(m)        # generate vector\n",
        "\n",
        "x0 = jax.numpy.zeros(n)       # initial approximation\n",
        "eps = 1e-4                    # accuracy\n",
        "alpha = 1e-4                  # constant step \n",
        "num_iter = 2000               # max number of iterations\n",
        "\n",
        "f = lambda x: (jax.numpy.linalg.norm(A@x - b))**3\n",
        "gradf = jax.grad(f)"
      ]
    },
    {
      "cell_type": "markdown",
      "source": [
        "<br> \n",
        "<h2 id=\"Gradient-descent\">1. Gradient descent</h2>  \n",
        "\n",
        "--- "
      ],
      "metadata": {
        "id": "xUUyZP-GGUi0"
      }
    },
    {
      "cell_type": "markdown",
      "source": [
        "<div align=\"justify\">Description of algorithm:<br>\n",
        "This iterative optimization algorithm is used for finding a local minimum of a differentiable function by taking repeated steps in the opposite direction of the gradient.</div>\n",
        "  \n",
        "$$x_{n+1} = x_n - α * \\nabla F(x_n)$$\n",
        "  \n",
        "<div align=\"justify\">The task:<br>\n",
        "How many iterations does the gradient descent method with a constant step of \\(α = 10^{-4} \\) take to achieve an accuracy in gradient norm less than \\(10^{-4} \\) ?</div>"
      ],
      "metadata": {
        "id": "UARzDFRmSAQV"
      }
    },
    {
      "cell_type": "code",
      "execution_count": 3,
      "metadata": {
        "id": "PTwIepSjOzM8",
        "colab": {
          "base_uri": "https://localhost:8080/",
          "height": 542
        },
        "outputId": "05777824-6f11-41b3-fd4c-c25ccabf1993"
      },
      "outputs": [
        {
          "output_type": "display_data",
          "data": {
            "text/html": [
              "<html>\n",
              "<head><meta charset=\"utf-8\" /></head>\n",
              "<body>\n",
              "    <div>            <script src=\"https://cdnjs.cloudflare.com/ajax/libs/mathjax/2.7.5/MathJax.js?config=TeX-AMS-MML_SVG\"></script><script type=\"text/javascript\">if (window.MathJax) {MathJax.Hub.Config({SVG: {font: \"STIX-Web\"}});}</script>                <script type=\"text/javascript\">window.PlotlyConfig = {MathJaxConfig: 'local'};</script>\n",
              "        <script src=\"https://cdn.plot.ly/plotly-2.8.3.min.js\"></script>                <div id=\"4bc4a847-0a97-412e-9790-4d7c2a31bf9d\" class=\"plotly-graph-div\" style=\"height:525px; width:100%;\"></div>            <script type=\"text/javascript\">                                    window.PLOTLYENV=window.PLOTLYENV || {};                                    if (document.getElementById(\"4bc4a847-0a97-412e-9790-4d7c2a31bf9d\")) {                    Plotly.newPlot(                        \"4bc4a847-0a97-412e-9790-4d7c2a31bf9d\",                        [{\"y\":[1133.6599415024875,737.8837432525903,509.9380420853133,364.2028677441566,265.78325058795355,197.15772501877404,148.294676438875,112.95798849919063,87.06857318405267,67.87260719613575,53.473167610271204,42.54589872806092,34.15715354721938,27.64350671875901,22.530056515003405,18.47421354910893,15.226691878490076,12.60431181570136,10.470990503186364,8.724431113918547,7.286781092388662,6.098052778036479,5.1114651933917505,4.290122308578172,3.6046227928484362,3.0313214818132392,2.551049518386673,2.148159875998947,1.8098059771664068,1.5253892029686722,1.286130320372247,1.0847330498288916,0.9151170849433031,0.7722041733314632,0.6517452640201118,0.5501798243484761,0.46452063557324974,0.39225896672659083,0.33128618764066553,0.2798287417237366,0.2363940442294154,0.199725362578126,0.16876411355350016,0.14261830734028597,0.12053610121234211,0.10188361125020695,0.08612627965431056,0.07281321609161057,0.061564030079911986,0.05205775224314104,0.044023508854976474,0.03723266917223557,0.03149223074103181,0.02663924589045409,0.022536124312572167,0.01906667311522125,0.0161327578776499,0.013651486796796505,0.011552835565155118,0.009777643679920322,0.008275923845732296,0.0070054353477307174,0.005930480018595487,0.005020885942040701,0.004251149512435532,0.0035997110957011087,0.0030483434138193857,0.0025816350563171316,0.0021865542744053984,0.0018520805432497912,0.0015688933264640537,0.00132910914300152,0.0011260594111261277,0.0009541027308251844,0.0008084662503431665,0.0006851115972179367,0.0005806215590899149,0.0004921042965396243,0.00041711236292866377,0.00035357424196332264,0.0002997364583825164,0.0002541146269029588,0.00021545205423556383,0.0001826847267413416,0.0001549116956557475,0.0001313700254027019,0.00011141360021921641,9.449519390941051e-05],\"type\":\"scatter\"}],                        {\"template\":{\"data\":{\"bar\":[{\"error_x\":{\"color\":\"#2a3f5f\"},\"error_y\":{\"color\":\"#2a3f5f\"},\"marker\":{\"line\":{\"color\":\"#E5ECF6\",\"width\":0.5},\"pattern\":{\"fillmode\":\"overlay\",\"size\":10,\"solidity\":0.2}},\"type\":\"bar\"}],\"barpolar\":[{\"marker\":{\"line\":{\"color\":\"#E5ECF6\",\"width\":0.5},\"pattern\":{\"fillmode\":\"overlay\",\"size\":10,\"solidity\":0.2}},\"type\":\"barpolar\"}],\"carpet\":[{\"aaxis\":{\"endlinecolor\":\"#2a3f5f\",\"gridcolor\":\"white\",\"linecolor\":\"white\",\"minorgridcolor\":\"white\",\"startlinecolor\":\"#2a3f5f\"},\"baxis\":{\"endlinecolor\":\"#2a3f5f\",\"gridcolor\":\"white\",\"linecolor\":\"white\",\"minorgridcolor\":\"white\",\"startlinecolor\":\"#2a3f5f\"},\"type\":\"carpet\"}],\"choropleth\":[{\"colorbar\":{\"outlinewidth\":0,\"ticks\":\"\"},\"type\":\"choropleth\"}],\"contour\":[{\"colorbar\":{\"outlinewidth\":0,\"ticks\":\"\"},\"colorscale\":[[0.0,\"#0d0887\"],[0.1111111111111111,\"#46039f\"],[0.2222222222222222,\"#7201a8\"],[0.3333333333333333,\"#9c179e\"],[0.4444444444444444,\"#bd3786\"],[0.5555555555555556,\"#d8576b\"],[0.6666666666666666,\"#ed7953\"],[0.7777777777777778,\"#fb9f3a\"],[0.8888888888888888,\"#fdca26\"],[1.0,\"#f0f921\"]],\"type\":\"contour\"}],\"contourcarpet\":[{\"colorbar\":{\"outlinewidth\":0,\"ticks\":\"\"},\"type\":\"contourcarpet\"}],\"heatmap\":[{\"colorbar\":{\"outlinewidth\":0,\"ticks\":\"\"},\"colorscale\":[[0.0,\"#0d0887\"],[0.1111111111111111,\"#46039f\"],[0.2222222222222222,\"#7201a8\"],[0.3333333333333333,\"#9c179e\"],[0.4444444444444444,\"#bd3786\"],[0.5555555555555556,\"#d8576b\"],[0.6666666666666666,\"#ed7953\"],[0.7777777777777778,\"#fb9f3a\"],[0.8888888888888888,\"#fdca26\"],[1.0,\"#f0f921\"]],\"type\":\"heatmap\"}],\"heatmapgl\":[{\"colorbar\":{\"outlinewidth\":0,\"ticks\":\"\"},\"colorscale\":[[0.0,\"#0d0887\"],[0.1111111111111111,\"#46039f\"],[0.2222222222222222,\"#7201a8\"],[0.3333333333333333,\"#9c179e\"],[0.4444444444444444,\"#bd3786\"],[0.5555555555555556,\"#d8576b\"],[0.6666666666666666,\"#ed7953\"],[0.7777777777777778,\"#fb9f3a\"],[0.8888888888888888,\"#fdca26\"],[1.0,\"#f0f921\"]],\"type\":\"heatmapgl\"}],\"histogram\":[{\"marker\":{\"pattern\":{\"fillmode\":\"overlay\",\"size\":10,\"solidity\":0.2}},\"type\":\"histogram\"}],\"histogram2d\":[{\"colorbar\":{\"outlinewidth\":0,\"ticks\":\"\"},\"colorscale\":[[0.0,\"#0d0887\"],[0.1111111111111111,\"#46039f\"],[0.2222222222222222,\"#7201a8\"],[0.3333333333333333,\"#9c179e\"],[0.4444444444444444,\"#bd3786\"],[0.5555555555555556,\"#d8576b\"],[0.6666666666666666,\"#ed7953\"],[0.7777777777777778,\"#fb9f3a\"],[0.8888888888888888,\"#fdca26\"],[1.0,\"#f0f921\"]],\"type\":\"histogram2d\"}],\"histogram2dcontour\":[{\"colorbar\":{\"outlinewidth\":0,\"ticks\":\"\"},\"colorscale\":[[0.0,\"#0d0887\"],[0.1111111111111111,\"#46039f\"],[0.2222222222222222,\"#7201a8\"],[0.3333333333333333,\"#9c179e\"],[0.4444444444444444,\"#bd3786\"],[0.5555555555555556,\"#d8576b\"],[0.6666666666666666,\"#ed7953\"],[0.7777777777777778,\"#fb9f3a\"],[0.8888888888888888,\"#fdca26\"],[1.0,\"#f0f921\"]],\"type\":\"histogram2dcontour\"}],\"mesh3d\":[{\"colorbar\":{\"outlinewidth\":0,\"ticks\":\"\"},\"type\":\"mesh3d\"}],\"parcoords\":[{\"line\":{\"colorbar\":{\"outlinewidth\":0,\"ticks\":\"\"}},\"type\":\"parcoords\"}],\"pie\":[{\"automargin\":true,\"type\":\"pie\"}],\"scatter\":[{\"marker\":{\"colorbar\":{\"outlinewidth\":0,\"ticks\":\"\"}},\"type\":\"scatter\"}],\"scatter3d\":[{\"line\":{\"colorbar\":{\"outlinewidth\":0,\"ticks\":\"\"}},\"marker\":{\"colorbar\":{\"outlinewidth\":0,\"ticks\":\"\"}},\"type\":\"scatter3d\"}],\"scattercarpet\":[{\"marker\":{\"colorbar\":{\"outlinewidth\":0,\"ticks\":\"\"}},\"type\":\"scattercarpet\"}],\"scattergeo\":[{\"marker\":{\"colorbar\":{\"outlinewidth\":0,\"ticks\":\"\"}},\"type\":\"scattergeo\"}],\"scattergl\":[{\"marker\":{\"colorbar\":{\"outlinewidth\":0,\"ticks\":\"\"}},\"type\":\"scattergl\"}],\"scattermapbox\":[{\"marker\":{\"colorbar\":{\"outlinewidth\":0,\"ticks\":\"\"}},\"type\":\"scattermapbox\"}],\"scatterpolar\":[{\"marker\":{\"colorbar\":{\"outlinewidth\":0,\"ticks\":\"\"}},\"type\":\"scatterpolar\"}],\"scatterpolargl\":[{\"marker\":{\"colorbar\":{\"outlinewidth\":0,\"ticks\":\"\"}},\"type\":\"scatterpolargl\"}],\"scatterternary\":[{\"marker\":{\"colorbar\":{\"outlinewidth\":0,\"ticks\":\"\"}},\"type\":\"scatterternary\"}],\"surface\":[{\"colorbar\":{\"outlinewidth\":0,\"ticks\":\"\"},\"colorscale\":[[0.0,\"#0d0887\"],[0.1111111111111111,\"#46039f\"],[0.2222222222222222,\"#7201a8\"],[0.3333333333333333,\"#9c179e\"],[0.4444444444444444,\"#bd3786\"],[0.5555555555555556,\"#d8576b\"],[0.6666666666666666,\"#ed7953\"],[0.7777777777777778,\"#fb9f3a\"],[0.8888888888888888,\"#fdca26\"],[1.0,\"#f0f921\"]],\"type\":\"surface\"}],\"table\":[{\"cells\":{\"fill\":{\"color\":\"#EBF0F8\"},\"line\":{\"color\":\"white\"}},\"header\":{\"fill\":{\"color\":\"#C8D4E3\"},\"line\":{\"color\":\"white\"}},\"type\":\"table\"}]},\"layout\":{\"annotationdefaults\":{\"arrowcolor\":\"#2a3f5f\",\"arrowhead\":0,\"arrowwidth\":1},\"autotypenumbers\":\"strict\",\"coloraxis\":{\"colorbar\":{\"outlinewidth\":0,\"ticks\":\"\"}},\"colorscale\":{\"diverging\":[[0,\"#8e0152\"],[0.1,\"#c51b7d\"],[0.2,\"#de77ae\"],[0.3,\"#f1b6da\"],[0.4,\"#fde0ef\"],[0.5,\"#f7f7f7\"],[0.6,\"#e6f5d0\"],[0.7,\"#b8e186\"],[0.8,\"#7fbc41\"],[0.9,\"#4d9221\"],[1,\"#276419\"]],\"sequential\":[[0.0,\"#0d0887\"],[0.1111111111111111,\"#46039f\"],[0.2222222222222222,\"#7201a8\"],[0.3333333333333333,\"#9c179e\"],[0.4444444444444444,\"#bd3786\"],[0.5555555555555556,\"#d8576b\"],[0.6666666666666666,\"#ed7953\"],[0.7777777777777778,\"#fb9f3a\"],[0.8888888888888888,\"#fdca26\"],[1.0,\"#f0f921\"]],\"sequentialminus\":[[0.0,\"#0d0887\"],[0.1111111111111111,\"#46039f\"],[0.2222222222222222,\"#7201a8\"],[0.3333333333333333,\"#9c179e\"],[0.4444444444444444,\"#bd3786\"],[0.5555555555555556,\"#d8576b\"],[0.6666666666666666,\"#ed7953\"],[0.7777777777777778,\"#fb9f3a\"],[0.8888888888888888,\"#fdca26\"],[1.0,\"#f0f921\"]]},\"colorway\":[\"#636efa\",\"#EF553B\",\"#00cc96\",\"#ab63fa\",\"#FFA15A\",\"#19d3f3\",\"#FF6692\",\"#B6E880\",\"#FF97FF\",\"#FECB52\"],\"font\":{\"color\":\"#2a3f5f\"},\"geo\":{\"bgcolor\":\"white\",\"lakecolor\":\"white\",\"landcolor\":\"#E5ECF6\",\"showlakes\":true,\"showland\":true,\"subunitcolor\":\"white\"},\"hoverlabel\":{\"align\":\"left\"},\"hovermode\":\"closest\",\"mapbox\":{\"style\":\"light\"},\"paper_bgcolor\":\"white\",\"plot_bgcolor\":\"#E5ECF6\",\"polar\":{\"angularaxis\":{\"gridcolor\":\"white\",\"linecolor\":\"white\",\"ticks\":\"\"},\"bgcolor\":\"#E5ECF6\",\"radialaxis\":{\"gridcolor\":\"white\",\"linecolor\":\"white\",\"ticks\":\"\"}},\"scene\":{\"xaxis\":{\"backgroundcolor\":\"#E5ECF6\",\"gridcolor\":\"white\",\"gridwidth\":2,\"linecolor\":\"white\",\"showbackground\":true,\"ticks\":\"\",\"zerolinecolor\":\"white\"},\"yaxis\":{\"backgroundcolor\":\"#E5ECF6\",\"gridcolor\":\"white\",\"gridwidth\":2,\"linecolor\":\"white\",\"showbackground\":true,\"ticks\":\"\",\"zerolinecolor\":\"white\"},\"zaxis\":{\"backgroundcolor\":\"#E5ECF6\",\"gridcolor\":\"white\",\"gridwidth\":2,\"linecolor\":\"white\",\"showbackground\":true,\"ticks\":\"\",\"zerolinecolor\":\"white\"}},\"shapedefaults\":{\"line\":{\"color\":\"#2a3f5f\"}},\"ternary\":{\"aaxis\":{\"gridcolor\":\"white\",\"linecolor\":\"white\",\"ticks\":\"\"},\"baxis\":{\"gridcolor\":\"white\",\"linecolor\":\"white\",\"ticks\":\"\"},\"bgcolor\":\"#E5ECF6\",\"caxis\":{\"gridcolor\":\"white\",\"linecolor\":\"white\",\"ticks\":\"\"}},\"title\":{\"x\":0.05},\"xaxis\":{\"automargin\":true,\"gridcolor\":\"white\",\"linecolor\":\"white\",\"ticks\":\"\",\"title\":{\"standoff\":15},\"zerolinecolor\":\"white\",\"zerolinewidth\":2},\"yaxis\":{\"automargin\":true,\"gridcolor\":\"white\",\"linecolor\":\"white\",\"ticks\":\"\",\"title\":{\"standoff\":15},\"zerolinecolor\":\"white\",\"zerolinewidth\":2}}},\"yaxis\":{\"type\":\"log\",\"tickformat\":\"10.0e\",\"title\":{\"text\":\"log (Gradient norm)\"}},\"font\":{\"family\":\"'Nunito', sans-serif\"},\"title\":{\"text\":\"Convergence of gradient norm\",\"y\":0.955,\"x\":0.5,\"xanchor\":\"center\",\"yanchor\":\"top\"},\"margin\":{\"l\":20,\"r\":20,\"t\":60,\"b\":20},\"xaxis\":{\"title\":{\"text\":\"Iterations\"}},\"showlegend\":false},                        {\"responsive\": true}                    ).then(function(){\n",
              "                            \n",
              "var gd = document.getElementById('4bc4a847-0a97-412e-9790-4d7c2a31bf9d');\n",
              "var x = new MutationObserver(function (mutations, observer) {{\n",
              "        var display = window.getComputedStyle(gd).display;\n",
              "        if (!display || display === 'none') {{\n",
              "            console.log([gd, 'removed!']);\n",
              "            Plotly.purge(gd);\n",
              "            observer.disconnect();\n",
              "        }}\n",
              "}});\n",
              "\n",
              "// Listen for the removal of the full notebook cells\n",
              "var notebookContainer = gd.closest('#notebook-container');\n",
              "if (notebookContainer) {{\n",
              "    x.observe(notebookContainer, {childList: true});\n",
              "}}\n",
              "\n",
              "// Listen for the clearing of the current output cell\n",
              "var outputEl = gd.closest('.output');\n",
              "if (outputEl) {{\n",
              "    x.observe(outputEl, {childList: true});\n",
              "}}\n",
              "\n",
              "                        })                };                            </script>        </div>\n",
              "</body>\n",
              "</html>"
            ]
          },
          "metadata": {}
        }
      ],
      "source": [
        "# create gradient descent algorithm\n",
        "def grad_descent(f, grad, x0, num_iter, eps, alpha):\n",
        "    x = x0.copy()\n",
        "    conv = [x]\n",
        "    norm_gd = []\n",
        "    for i in range(num_iter):\n",
        "        h = -grad(x)\n",
        "        norm_gd.append(np.linalg.norm(h))\n",
        "        if jnp.linalg.norm(h) < eps:\n",
        "            break\n",
        "        x = x + alpha * h\n",
        "        conv.append(x)\n",
        "    return x, conv, i, norm_gd\n",
        "\n",
        "# result of gradient descent algorithm\n",
        "x_gd, conv_gd, i_gd, norm_gd = grad_descent(f, gradf, x0, num_iter, eps, alpha)\n",
        "# print(\"Answer: \",i_gd+1, \" iterations.\\n\")             # +1 b/c count from 0    \n",
        "\n",
        "# plot graph\n",
        "fig = go.Figure(go.Scatter( y=[x for x in norm_gd] ))\n",
        "\n",
        "# modify layout of the graph \n",
        "fig.update_layout(\n",
        "                  font_family=\"'Nunito', sans-serif\",\n",
        "                  yaxis=dict(type=\"log\", tickformat = '10.0e'),\n",
        "                  title={'text': \"Convergence of gradient norm\", 'y':0.955, 'x':0.5, 'xanchor': 'center', 'yanchor': 'top'},\n",
        "                  xaxis_title='Iterations',\n",
        "                  yaxis_title='log (Gradient norm)',\n",
        "                  showlegend=False,\n",
        "                  margin=dict(l=20, r=20, t=60, b=20),\n",
        "                  )\n",
        "\n",
        "fig.show()"
      ]
    },
    {
      "cell_type": "markdown",
      "source": [
        "Answer:  88  iterations."
      ],
      "metadata": {
        "id": "NDhDlN-3yKBY"
      }
    },
    {
      "cell_type": "markdown",
      "source": [
        "<br> \n",
        "<h2 id=\"Heavy-ball-method\">2. Heavy ball method</h2>  \n",
        "\n",
        "--- "
      ],
      "metadata": {
        "id": "kUL-vUXY7fTv"
      }
    },
    {
      "cell_type": "markdown",
      "source": [
        "<div align=\"justify\">Description of algorithm:<br>\n",
        "This algorithm, also known as Polyak’s momentum, combines the gradient descent with a history of the previous step to accelerate the convergence of the algorithm.</div>\n",
        "\n",
        "$$x_{n+1} = x_n - α * \\nabla F(x_n) + β(x_n-x_{n-1})$$\n",
        "  \n",
        "<div align=\"justify\">The task:<br>\n",
        "How many iterations does the heavy ball method with a constant step of \\(α = 10^{-4} \\) and coefficient \\(β = 0.5 \\) take to achieve an accuracy in the gradient norm less than \\(10^{-4} \\) ?</div>\n",
        "<!-- Function: $f(x)\\ =\\ ∣∣Ax−b∣∣^3_{2}$ -->"
      ],
      "metadata": {
        "id": "h7d1lRB8YQu-"
      }
    },
    {
      "cell_type": "code",
      "source": [
        "# create heavy ball algorithm\n",
        "def heavy_ball(f, grad, x0, num_iter, eps, alpha, beta):\n",
        "    x = x0.copy()\n",
        "    conv = [x.copy()]\n",
        "    prev_x = None\n",
        "    norm_hb = []\n",
        "    for i in range(num_iter):\n",
        "        h = -grad(x)\n",
        "        norm_hb.append(np.linalg.norm(h))\n",
        "        if jax.numpy.linalg.norm(h) < eps:\n",
        "          break\n",
        "        if prev_x is None:\n",
        "            prev_x = x\n",
        "            x = x + alpha * h\n",
        "        else:\n",
        "            x, prev_x = x + alpha * h + beta * (x - prev_x), x\n",
        "        conv.append(x.copy())\n",
        "    return x, conv, i, norm_hb\n",
        "\n",
        "# result of heavy ball algorithm\n",
        "x, conv_hb, i, norm_hb = heavy_ball(f, gradf, x0, num_iter, eps, alpha, beta=0.5)\n",
        "# print(\"Answer: \",i+1, \" iterations.\\n\")              # +1 b/c count from 0  \n",
        "\n",
        "# plot graph\n",
        "fig = go.Figure(go.Scatter( y=[x for x in norm_hb] ))\n",
        "\n",
        "# modify layout of the graph \n",
        "fig.update_layout(\n",
        "                  font_family=\"'Nunito', sans-serif\",\n",
        "                  yaxis=dict(type=\"log\", tickformat = '10.0e'),\n",
        "                  title={'text': \"Convergence of gradient norm\", 'y':0.955, 'x':0.5, 'xanchor': 'center', 'yanchor': 'top'},\n",
        "                  xaxis_title='Iterations',\n",
        "                  yaxis_title='log (Gradient norm)',\n",
        "                  showlegend=False,\n",
        "                  margin=dict(l=20, r=20, t=60, b=20),\n",
        "                  )\n",
        "\n",
        "fig.show()"
      ],
      "metadata": {
        "colab": {
          "base_uri": "https://localhost:8080/",
          "height": 542
        },
        "id": "fmwIj_NS87O_",
        "outputId": "e8069872-b09b-4c3f-baaf-33a45af741bd"
      },
      "execution_count": 4,
      "outputs": [
        {
          "output_type": "display_data",
          "data": {
            "text/html": [
              "<html>\n",
              "<head><meta charset=\"utf-8\" /></head>\n",
              "<body>\n",
              "    <div>            <script src=\"https://cdnjs.cloudflare.com/ajax/libs/mathjax/2.7.5/MathJax.js?config=TeX-AMS-MML_SVG\"></script><script type=\"text/javascript\">if (window.MathJax) {MathJax.Hub.Config({SVG: {font: \"STIX-Web\"}});}</script>                <script type=\"text/javascript\">window.PlotlyConfig = {MathJaxConfig: 'local'};</script>\n",
              "        <script src=\"https://cdn.plot.ly/plotly-2.8.3.min.js\"></script>                <div id=\"02db39dc-a409-4af4-921d-ab409b01b680\" class=\"plotly-graph-div\" style=\"height:525px; width:100%;\"></div>            <script type=\"text/javascript\">                                    window.PLOTLYENV=window.PLOTLYENV || {};                                    if (document.getElementById(\"02db39dc-a409-4af4-921d-ab409b01b680\")) {                    Plotly.newPlot(                        \"02db39dc-a409-4af4-921d-ab409b01b680\",                        [{\"y\":[1133.6599415024875,737.8837432525903,348.7053572254662,129.4499416202987,137.24251343940293,150.8068214566298,120.18375124066384,75.44921524387485,40.38155429112457,25.232552781873203,21.840340142823177,18.28114720439789,13.431093311662396,9.06583156577562,6.0002522245614855,4.004139896914594,2.6804071388312463,1.874109048274797,1.4408217849473481,1.1387068314726356,0.8367656087929534,0.5514749289026044,0.34167644089953536,0.23211997153243766,0.1819762942728031,0.14104607301697353,0.09925306526304753,0.06480298214438299,0.04314174773189075,0.031299149873021695,0.02331730778117252,0.01680808899215556,0.011897118740980749,0.008540229773669554,0.0060902227027998,0.004115186126502227,0.002649722524187059,0.0018114466019088535,0.001414000053784618,0.0011177102384931678,0.0008046614823758953,0.0005231638585693486,0.00033451123004479686,0.0002391921081822453,0.00018351910466923825,0.0001335459135516577,9.031224070642281e-05],\"type\":\"scatter\"}],                        {\"template\":{\"data\":{\"bar\":[{\"error_x\":{\"color\":\"#2a3f5f\"},\"error_y\":{\"color\":\"#2a3f5f\"},\"marker\":{\"line\":{\"color\":\"#E5ECF6\",\"width\":0.5},\"pattern\":{\"fillmode\":\"overlay\",\"size\":10,\"solidity\":0.2}},\"type\":\"bar\"}],\"barpolar\":[{\"marker\":{\"line\":{\"color\":\"#E5ECF6\",\"width\":0.5},\"pattern\":{\"fillmode\":\"overlay\",\"size\":10,\"solidity\":0.2}},\"type\":\"barpolar\"}],\"carpet\":[{\"aaxis\":{\"endlinecolor\":\"#2a3f5f\",\"gridcolor\":\"white\",\"linecolor\":\"white\",\"minorgridcolor\":\"white\",\"startlinecolor\":\"#2a3f5f\"},\"baxis\":{\"endlinecolor\":\"#2a3f5f\",\"gridcolor\":\"white\",\"linecolor\":\"white\",\"minorgridcolor\":\"white\",\"startlinecolor\":\"#2a3f5f\"},\"type\":\"carpet\"}],\"choropleth\":[{\"colorbar\":{\"outlinewidth\":0,\"ticks\":\"\"},\"type\":\"choropleth\"}],\"contour\":[{\"colorbar\":{\"outlinewidth\":0,\"ticks\":\"\"},\"colorscale\":[[0.0,\"#0d0887\"],[0.1111111111111111,\"#46039f\"],[0.2222222222222222,\"#7201a8\"],[0.3333333333333333,\"#9c179e\"],[0.4444444444444444,\"#bd3786\"],[0.5555555555555556,\"#d8576b\"],[0.6666666666666666,\"#ed7953\"],[0.7777777777777778,\"#fb9f3a\"],[0.8888888888888888,\"#fdca26\"],[1.0,\"#f0f921\"]],\"type\":\"contour\"}],\"contourcarpet\":[{\"colorbar\":{\"outlinewidth\":0,\"ticks\":\"\"},\"type\":\"contourcarpet\"}],\"heatmap\":[{\"colorbar\":{\"outlinewidth\":0,\"ticks\":\"\"},\"colorscale\":[[0.0,\"#0d0887\"],[0.1111111111111111,\"#46039f\"],[0.2222222222222222,\"#7201a8\"],[0.3333333333333333,\"#9c179e\"],[0.4444444444444444,\"#bd3786\"],[0.5555555555555556,\"#d8576b\"],[0.6666666666666666,\"#ed7953\"],[0.7777777777777778,\"#fb9f3a\"],[0.8888888888888888,\"#fdca26\"],[1.0,\"#f0f921\"]],\"type\":\"heatmap\"}],\"heatmapgl\":[{\"colorbar\":{\"outlinewidth\":0,\"ticks\":\"\"},\"colorscale\":[[0.0,\"#0d0887\"],[0.1111111111111111,\"#46039f\"],[0.2222222222222222,\"#7201a8\"],[0.3333333333333333,\"#9c179e\"],[0.4444444444444444,\"#bd3786\"],[0.5555555555555556,\"#d8576b\"],[0.6666666666666666,\"#ed7953\"],[0.7777777777777778,\"#fb9f3a\"],[0.8888888888888888,\"#fdca26\"],[1.0,\"#f0f921\"]],\"type\":\"heatmapgl\"}],\"histogram\":[{\"marker\":{\"pattern\":{\"fillmode\":\"overlay\",\"size\":10,\"solidity\":0.2}},\"type\":\"histogram\"}],\"histogram2d\":[{\"colorbar\":{\"outlinewidth\":0,\"ticks\":\"\"},\"colorscale\":[[0.0,\"#0d0887\"],[0.1111111111111111,\"#46039f\"],[0.2222222222222222,\"#7201a8\"],[0.3333333333333333,\"#9c179e\"],[0.4444444444444444,\"#bd3786\"],[0.5555555555555556,\"#d8576b\"],[0.6666666666666666,\"#ed7953\"],[0.7777777777777778,\"#fb9f3a\"],[0.8888888888888888,\"#fdca26\"],[1.0,\"#f0f921\"]],\"type\":\"histogram2d\"}],\"histogram2dcontour\":[{\"colorbar\":{\"outlinewidth\":0,\"ticks\":\"\"},\"colorscale\":[[0.0,\"#0d0887\"],[0.1111111111111111,\"#46039f\"],[0.2222222222222222,\"#7201a8\"],[0.3333333333333333,\"#9c179e\"],[0.4444444444444444,\"#bd3786\"],[0.5555555555555556,\"#d8576b\"],[0.6666666666666666,\"#ed7953\"],[0.7777777777777778,\"#fb9f3a\"],[0.8888888888888888,\"#fdca26\"],[1.0,\"#f0f921\"]],\"type\":\"histogram2dcontour\"}],\"mesh3d\":[{\"colorbar\":{\"outlinewidth\":0,\"ticks\":\"\"},\"type\":\"mesh3d\"}],\"parcoords\":[{\"line\":{\"colorbar\":{\"outlinewidth\":0,\"ticks\":\"\"}},\"type\":\"parcoords\"}],\"pie\":[{\"automargin\":true,\"type\":\"pie\"}],\"scatter\":[{\"marker\":{\"colorbar\":{\"outlinewidth\":0,\"ticks\":\"\"}},\"type\":\"scatter\"}],\"scatter3d\":[{\"line\":{\"colorbar\":{\"outlinewidth\":0,\"ticks\":\"\"}},\"marker\":{\"colorbar\":{\"outlinewidth\":0,\"ticks\":\"\"}},\"type\":\"scatter3d\"}],\"scattercarpet\":[{\"marker\":{\"colorbar\":{\"outlinewidth\":0,\"ticks\":\"\"}},\"type\":\"scattercarpet\"}],\"scattergeo\":[{\"marker\":{\"colorbar\":{\"outlinewidth\":0,\"ticks\":\"\"}},\"type\":\"scattergeo\"}],\"scattergl\":[{\"marker\":{\"colorbar\":{\"outlinewidth\":0,\"ticks\":\"\"}},\"type\":\"scattergl\"}],\"scattermapbox\":[{\"marker\":{\"colorbar\":{\"outlinewidth\":0,\"ticks\":\"\"}},\"type\":\"scattermapbox\"}],\"scatterpolar\":[{\"marker\":{\"colorbar\":{\"outlinewidth\":0,\"ticks\":\"\"}},\"type\":\"scatterpolar\"}],\"scatterpolargl\":[{\"marker\":{\"colorbar\":{\"outlinewidth\":0,\"ticks\":\"\"}},\"type\":\"scatterpolargl\"}],\"scatterternary\":[{\"marker\":{\"colorbar\":{\"outlinewidth\":0,\"ticks\":\"\"}},\"type\":\"scatterternary\"}],\"surface\":[{\"colorbar\":{\"outlinewidth\":0,\"ticks\":\"\"},\"colorscale\":[[0.0,\"#0d0887\"],[0.1111111111111111,\"#46039f\"],[0.2222222222222222,\"#7201a8\"],[0.3333333333333333,\"#9c179e\"],[0.4444444444444444,\"#bd3786\"],[0.5555555555555556,\"#d8576b\"],[0.6666666666666666,\"#ed7953\"],[0.7777777777777778,\"#fb9f3a\"],[0.8888888888888888,\"#fdca26\"],[1.0,\"#f0f921\"]],\"type\":\"surface\"}],\"table\":[{\"cells\":{\"fill\":{\"color\":\"#EBF0F8\"},\"line\":{\"color\":\"white\"}},\"header\":{\"fill\":{\"color\":\"#C8D4E3\"},\"line\":{\"color\":\"white\"}},\"type\":\"table\"}]},\"layout\":{\"annotationdefaults\":{\"arrowcolor\":\"#2a3f5f\",\"arrowhead\":0,\"arrowwidth\":1},\"autotypenumbers\":\"strict\",\"coloraxis\":{\"colorbar\":{\"outlinewidth\":0,\"ticks\":\"\"}},\"colorscale\":{\"diverging\":[[0,\"#8e0152\"],[0.1,\"#c51b7d\"],[0.2,\"#de77ae\"],[0.3,\"#f1b6da\"],[0.4,\"#fde0ef\"],[0.5,\"#f7f7f7\"],[0.6,\"#e6f5d0\"],[0.7,\"#b8e186\"],[0.8,\"#7fbc41\"],[0.9,\"#4d9221\"],[1,\"#276419\"]],\"sequential\":[[0.0,\"#0d0887\"],[0.1111111111111111,\"#46039f\"],[0.2222222222222222,\"#7201a8\"],[0.3333333333333333,\"#9c179e\"],[0.4444444444444444,\"#bd3786\"],[0.5555555555555556,\"#d8576b\"],[0.6666666666666666,\"#ed7953\"],[0.7777777777777778,\"#fb9f3a\"],[0.8888888888888888,\"#fdca26\"],[1.0,\"#f0f921\"]],\"sequentialminus\":[[0.0,\"#0d0887\"],[0.1111111111111111,\"#46039f\"],[0.2222222222222222,\"#7201a8\"],[0.3333333333333333,\"#9c179e\"],[0.4444444444444444,\"#bd3786\"],[0.5555555555555556,\"#d8576b\"],[0.6666666666666666,\"#ed7953\"],[0.7777777777777778,\"#fb9f3a\"],[0.8888888888888888,\"#fdca26\"],[1.0,\"#f0f921\"]]},\"colorway\":[\"#636efa\",\"#EF553B\",\"#00cc96\",\"#ab63fa\",\"#FFA15A\",\"#19d3f3\",\"#FF6692\",\"#B6E880\",\"#FF97FF\",\"#FECB52\"],\"font\":{\"color\":\"#2a3f5f\"},\"geo\":{\"bgcolor\":\"white\",\"lakecolor\":\"white\",\"landcolor\":\"#E5ECF6\",\"showlakes\":true,\"showland\":true,\"subunitcolor\":\"white\"},\"hoverlabel\":{\"align\":\"left\"},\"hovermode\":\"closest\",\"mapbox\":{\"style\":\"light\"},\"paper_bgcolor\":\"white\",\"plot_bgcolor\":\"#E5ECF6\",\"polar\":{\"angularaxis\":{\"gridcolor\":\"white\",\"linecolor\":\"white\",\"ticks\":\"\"},\"bgcolor\":\"#E5ECF6\",\"radialaxis\":{\"gridcolor\":\"white\",\"linecolor\":\"white\",\"ticks\":\"\"}},\"scene\":{\"xaxis\":{\"backgroundcolor\":\"#E5ECF6\",\"gridcolor\":\"white\",\"gridwidth\":2,\"linecolor\":\"white\",\"showbackground\":true,\"ticks\":\"\",\"zerolinecolor\":\"white\"},\"yaxis\":{\"backgroundcolor\":\"#E5ECF6\",\"gridcolor\":\"white\",\"gridwidth\":2,\"linecolor\":\"white\",\"showbackground\":true,\"ticks\":\"\",\"zerolinecolor\":\"white\"},\"zaxis\":{\"backgroundcolor\":\"#E5ECF6\",\"gridcolor\":\"white\",\"gridwidth\":2,\"linecolor\":\"white\",\"showbackground\":true,\"ticks\":\"\",\"zerolinecolor\":\"white\"}},\"shapedefaults\":{\"line\":{\"color\":\"#2a3f5f\"}},\"ternary\":{\"aaxis\":{\"gridcolor\":\"white\",\"linecolor\":\"white\",\"ticks\":\"\"},\"baxis\":{\"gridcolor\":\"white\",\"linecolor\":\"white\",\"ticks\":\"\"},\"bgcolor\":\"#E5ECF6\",\"caxis\":{\"gridcolor\":\"white\",\"linecolor\":\"white\",\"ticks\":\"\"}},\"title\":{\"x\":0.05},\"xaxis\":{\"automargin\":true,\"gridcolor\":\"white\",\"linecolor\":\"white\",\"ticks\":\"\",\"title\":{\"standoff\":15},\"zerolinecolor\":\"white\",\"zerolinewidth\":2},\"yaxis\":{\"automargin\":true,\"gridcolor\":\"white\",\"linecolor\":\"white\",\"ticks\":\"\",\"title\":{\"standoff\":15},\"zerolinecolor\":\"white\",\"zerolinewidth\":2}}},\"yaxis\":{\"type\":\"log\",\"tickformat\":\"10.0e\",\"title\":{\"text\":\"log (Gradient norm)\"}},\"font\":{\"family\":\"'Nunito', sans-serif\"},\"title\":{\"text\":\"Convergence of gradient norm\",\"y\":0.955,\"x\":0.5,\"xanchor\":\"center\",\"yanchor\":\"top\"},\"margin\":{\"l\":20,\"r\":20,\"t\":60,\"b\":20},\"xaxis\":{\"title\":{\"text\":\"Iterations\"}},\"showlegend\":false},                        {\"responsive\": true}                    ).then(function(){\n",
              "                            \n",
              "var gd = document.getElementById('02db39dc-a409-4af4-921d-ab409b01b680');\n",
              "var x = new MutationObserver(function (mutations, observer) {{\n",
              "        var display = window.getComputedStyle(gd).display;\n",
              "        if (!display || display === 'none') {{\n",
              "            console.log([gd, 'removed!']);\n",
              "            Plotly.purge(gd);\n",
              "            observer.disconnect();\n",
              "        }}\n",
              "}});\n",
              "\n",
              "// Listen for the removal of the full notebook cells\n",
              "var notebookContainer = gd.closest('#notebook-container');\n",
              "if (notebookContainer) {{\n",
              "    x.observe(notebookContainer, {childList: true});\n",
              "}}\n",
              "\n",
              "// Listen for the clearing of the current output cell\n",
              "var outputEl = gd.closest('.output');\n",
              "if (outputEl) {{\n",
              "    x.observe(outputEl, {childList: true});\n",
              "}}\n",
              "\n",
              "                        })                };                            </script>        </div>\n",
              "</body>\n",
              "</html>"
            ]
          },
          "metadata": {}
        }
      ]
    },
    {
      "cell_type": "markdown",
      "source": [
        "Answer:  47  iterations."
      ],
      "metadata": {
        "id": "GHrloEmqyUB5"
      }
    },
    {
      "cell_type": "markdown",
      "source": [
        "<br> \n",
        "<h2 id=\"Accelerated-gradient-descent\">3. Accelerated gradient descent</h2>  \n",
        "\n",
        "--- "
      ],
      "metadata": {
        "id": "3AJ6vlVm7weM"
      }
    },
    {
      "cell_type": "markdown",
      "source": [
        "<div align=\"justify\">Description of algorithm:<br>\n",
        "This algorithm, also known as Nesterov Momentum, is an extension to the gradient descent optimization algorithm. It makes the gradient descent\n",
        "with reference to the approximate future position.</div>\n",
        "\n",
        "$$y_0 = x_0 $$\n",
        "$$x_{n+1} = y_{n} - α * \\nabla F(y_n) $$\n",
        "$$y_{n+1} = x_{n+1} + β(x_{n+1}-x_n)$$\n",
        "  \n",
        "<div align=\"justify\">The task:<br>\n",
        "How many iterations does the accelerated gradient method with a constant step of \\(α = 3* 10^{-4} \\) take to achieve an accuracy in gradient norm less than \\(10^{-4}\\) ?</div>"
      ],
      "metadata": {
        "id": "vxohusnmZsXh"
      }
    },
    {
      "cell_type": "code",
      "source": [
        "alpha = 3e-4              # new step\n",
        "\n",
        "# create accelerated gradient descent algorithm\n",
        "def accelerated_gd(f, grad, x0, num_iter, eps, alpha):\n",
        "    x = x0.copy()\n",
        "    y = x0.copy()\n",
        "    conv = [x]\n",
        "    norm_acc_gd = []\n",
        "    prev_x = None\n",
        "    for i in range(num_iter):\n",
        "        h = -grad(y)\n",
        "        norm_acc_gd.append(np.linalg.norm(h))\n",
        "        if np.linalg.norm(h) < eps:\n",
        "            break\n",
        "        if prev_x is None:\n",
        "            prev_x = x.copy()\n",
        "            x = y + alpha * h\n",
        "        else:\n",
        "            x, prev_x = y + alpha * h, x\n",
        "        \n",
        "        y = x + (i+1.) / (i+4.) * (x - prev_x)\n",
        "            \n",
        "        conv.append(x)\n",
        "    return x, conv, i, norm_acc_gd\n",
        "\n",
        "# result of accelerated gradient descent algorithm\n",
        "x_acc_gd, conv_acc_gd, i_acc_gd, norm_acc_gd = accelerated_gd(f, gradf, x0, num_iter, eps, alpha)\n",
        "# print(\"Answer: \",i_acc_gd+1, \" iterations.\\n\")             # +1 b/c count from 0    \n",
        "\n",
        "# plot graph\n",
        "fig = go.Figure(go.Scatter( y=[x for x in norm_acc_gd] ))\n",
        "\n",
        "# modify layout of the graph \n",
        "fig.update_layout(\n",
        "                  font_family=\"'Nunito', sans-serif\",\n",
        "                  yaxis=dict(type=\"log\", tickformat = '10.0e'),\n",
        "                  title={'text': \"Convergence of gradient norm\", 'y':0.955, 'x':0.5, 'xanchor': 'center', 'yanchor': 'top'},\n",
        "                  xaxis_title='Iterations',\n",
        "                  yaxis_title='log (Gradient norm)',\n",
        "                  showlegend=False,\n",
        "                  margin=dict(l=20, r=20, t=60, b=20),\n",
        "                  )\n",
        "\n",
        "fig.show()"
      ],
      "metadata": {
        "colab": {
          "base_uri": "https://localhost:8080/",
          "height": 542
        },
        "id": "83bpu1_PEV6l",
        "outputId": "482f6d7c-e54e-43e1-9e8c-7d46c51fdfde"
      },
      "execution_count": 5,
      "outputs": [
        {
          "output_type": "display_data",
          "data": {
            "text/html": [
              "<html>\n",
              "<head><meta charset=\"utf-8\" /></head>\n",
              "<body>\n",
              "    <div>            <script src=\"https://cdnjs.cloudflare.com/ajax/libs/mathjax/2.7.5/MathJax.js?config=TeX-AMS-MML_SVG\"></script><script type=\"text/javascript\">if (window.MathJax) {MathJax.Hub.Config({SVG: {font: \"STIX-Web\"}});}</script>                <script type=\"text/javascript\">window.PlotlyConfig = {MathJaxConfig: 'local'};</script>\n",
              "        <script src=\"https://cdn.plot.ly/plotly-2.8.3.min.js\"></script>                <div id=\"c25e1799-4eda-441f-9187-51669329a7d9\" class=\"plotly-graph-div\" style=\"height:525px; width:100%;\"></div>            <script type=\"text/javascript\">                                    window.PLOTLYENV=window.PLOTLYENV || {};                                    if (document.getElementById(\"c25e1799-4eda-441f-9187-51669329a7d9\")) {                    Plotly.newPlot(                        \"c25e1799-4eda-441f-9187-51669329a7d9\",                        [{\"y\":[1133.6599415024875,290.03569309520134,82.11798533693731,24.409701919232255,13.05897872547251,7.676279399774283,2.5351948183712674,0.9209050349084177,1.4602041393031648,1.0724838318874583,0.44858173995346784,0.12008440216958424,0.22054032986168248,0.19264129635825866,0.09829419261800808,0.027420276606363262,0.03692934012287487,0.03760183871625977,0.02264580203073813,0.008027165778701275,0.006561125546422778,0.007613376895715639,0.005330796415444647,0.002359012942896553,0.0012839737430776527,0.0015625301333407756,0.00126065421204432,0.0006717167600292317,0.00030359387832471494,0.0003220216131374935,0.00029614636638149346,0.00018540041253277043,8.59375405394628e-05],\"type\":\"scatter\"}],                        {\"template\":{\"data\":{\"bar\":[{\"error_x\":{\"color\":\"#2a3f5f\"},\"error_y\":{\"color\":\"#2a3f5f\"},\"marker\":{\"line\":{\"color\":\"#E5ECF6\",\"width\":0.5},\"pattern\":{\"fillmode\":\"overlay\",\"size\":10,\"solidity\":0.2}},\"type\":\"bar\"}],\"barpolar\":[{\"marker\":{\"line\":{\"color\":\"#E5ECF6\",\"width\":0.5},\"pattern\":{\"fillmode\":\"overlay\",\"size\":10,\"solidity\":0.2}},\"type\":\"barpolar\"}],\"carpet\":[{\"aaxis\":{\"endlinecolor\":\"#2a3f5f\",\"gridcolor\":\"white\",\"linecolor\":\"white\",\"minorgridcolor\":\"white\",\"startlinecolor\":\"#2a3f5f\"},\"baxis\":{\"endlinecolor\":\"#2a3f5f\",\"gridcolor\":\"white\",\"linecolor\":\"white\",\"minorgridcolor\":\"white\",\"startlinecolor\":\"#2a3f5f\"},\"type\":\"carpet\"}],\"choropleth\":[{\"colorbar\":{\"outlinewidth\":0,\"ticks\":\"\"},\"type\":\"choropleth\"}],\"contour\":[{\"colorbar\":{\"outlinewidth\":0,\"ticks\":\"\"},\"colorscale\":[[0.0,\"#0d0887\"],[0.1111111111111111,\"#46039f\"],[0.2222222222222222,\"#7201a8\"],[0.3333333333333333,\"#9c179e\"],[0.4444444444444444,\"#bd3786\"],[0.5555555555555556,\"#d8576b\"],[0.6666666666666666,\"#ed7953\"],[0.7777777777777778,\"#fb9f3a\"],[0.8888888888888888,\"#fdca26\"],[1.0,\"#f0f921\"]],\"type\":\"contour\"}],\"contourcarpet\":[{\"colorbar\":{\"outlinewidth\":0,\"ticks\":\"\"},\"type\":\"contourcarpet\"}],\"heatmap\":[{\"colorbar\":{\"outlinewidth\":0,\"ticks\":\"\"},\"colorscale\":[[0.0,\"#0d0887\"],[0.1111111111111111,\"#46039f\"],[0.2222222222222222,\"#7201a8\"],[0.3333333333333333,\"#9c179e\"],[0.4444444444444444,\"#bd3786\"],[0.5555555555555556,\"#d8576b\"],[0.6666666666666666,\"#ed7953\"],[0.7777777777777778,\"#fb9f3a\"],[0.8888888888888888,\"#fdca26\"],[1.0,\"#f0f921\"]],\"type\":\"heatmap\"}],\"heatmapgl\":[{\"colorbar\":{\"outlinewidth\":0,\"ticks\":\"\"},\"colorscale\":[[0.0,\"#0d0887\"],[0.1111111111111111,\"#46039f\"],[0.2222222222222222,\"#7201a8\"],[0.3333333333333333,\"#9c179e\"],[0.4444444444444444,\"#bd3786\"],[0.5555555555555556,\"#d8576b\"],[0.6666666666666666,\"#ed7953\"],[0.7777777777777778,\"#fb9f3a\"],[0.8888888888888888,\"#fdca26\"],[1.0,\"#f0f921\"]],\"type\":\"heatmapgl\"}],\"histogram\":[{\"marker\":{\"pattern\":{\"fillmode\":\"overlay\",\"size\":10,\"solidity\":0.2}},\"type\":\"histogram\"}],\"histogram2d\":[{\"colorbar\":{\"outlinewidth\":0,\"ticks\":\"\"},\"colorscale\":[[0.0,\"#0d0887\"],[0.1111111111111111,\"#46039f\"],[0.2222222222222222,\"#7201a8\"],[0.3333333333333333,\"#9c179e\"],[0.4444444444444444,\"#bd3786\"],[0.5555555555555556,\"#d8576b\"],[0.6666666666666666,\"#ed7953\"],[0.7777777777777778,\"#fb9f3a\"],[0.8888888888888888,\"#fdca26\"],[1.0,\"#f0f921\"]],\"type\":\"histogram2d\"}],\"histogram2dcontour\":[{\"colorbar\":{\"outlinewidth\":0,\"ticks\":\"\"},\"colorscale\":[[0.0,\"#0d0887\"],[0.1111111111111111,\"#46039f\"],[0.2222222222222222,\"#7201a8\"],[0.3333333333333333,\"#9c179e\"],[0.4444444444444444,\"#bd3786\"],[0.5555555555555556,\"#d8576b\"],[0.6666666666666666,\"#ed7953\"],[0.7777777777777778,\"#fb9f3a\"],[0.8888888888888888,\"#fdca26\"],[1.0,\"#f0f921\"]],\"type\":\"histogram2dcontour\"}],\"mesh3d\":[{\"colorbar\":{\"outlinewidth\":0,\"ticks\":\"\"},\"type\":\"mesh3d\"}],\"parcoords\":[{\"line\":{\"colorbar\":{\"outlinewidth\":0,\"ticks\":\"\"}},\"type\":\"parcoords\"}],\"pie\":[{\"automargin\":true,\"type\":\"pie\"}],\"scatter\":[{\"marker\":{\"colorbar\":{\"outlinewidth\":0,\"ticks\":\"\"}},\"type\":\"scatter\"}],\"scatter3d\":[{\"line\":{\"colorbar\":{\"outlinewidth\":0,\"ticks\":\"\"}},\"marker\":{\"colorbar\":{\"outlinewidth\":0,\"ticks\":\"\"}},\"type\":\"scatter3d\"}],\"scattercarpet\":[{\"marker\":{\"colorbar\":{\"outlinewidth\":0,\"ticks\":\"\"}},\"type\":\"scattercarpet\"}],\"scattergeo\":[{\"marker\":{\"colorbar\":{\"outlinewidth\":0,\"ticks\":\"\"}},\"type\":\"scattergeo\"}],\"scattergl\":[{\"marker\":{\"colorbar\":{\"outlinewidth\":0,\"ticks\":\"\"}},\"type\":\"scattergl\"}],\"scattermapbox\":[{\"marker\":{\"colorbar\":{\"outlinewidth\":0,\"ticks\":\"\"}},\"type\":\"scattermapbox\"}],\"scatterpolar\":[{\"marker\":{\"colorbar\":{\"outlinewidth\":0,\"ticks\":\"\"}},\"type\":\"scatterpolar\"}],\"scatterpolargl\":[{\"marker\":{\"colorbar\":{\"outlinewidth\":0,\"ticks\":\"\"}},\"type\":\"scatterpolargl\"}],\"scatterternary\":[{\"marker\":{\"colorbar\":{\"outlinewidth\":0,\"ticks\":\"\"}},\"type\":\"scatterternary\"}],\"surface\":[{\"colorbar\":{\"outlinewidth\":0,\"ticks\":\"\"},\"colorscale\":[[0.0,\"#0d0887\"],[0.1111111111111111,\"#46039f\"],[0.2222222222222222,\"#7201a8\"],[0.3333333333333333,\"#9c179e\"],[0.4444444444444444,\"#bd3786\"],[0.5555555555555556,\"#d8576b\"],[0.6666666666666666,\"#ed7953\"],[0.7777777777777778,\"#fb9f3a\"],[0.8888888888888888,\"#fdca26\"],[1.0,\"#f0f921\"]],\"type\":\"surface\"}],\"table\":[{\"cells\":{\"fill\":{\"color\":\"#EBF0F8\"},\"line\":{\"color\":\"white\"}},\"header\":{\"fill\":{\"color\":\"#C8D4E3\"},\"line\":{\"color\":\"white\"}},\"type\":\"table\"}]},\"layout\":{\"annotationdefaults\":{\"arrowcolor\":\"#2a3f5f\",\"arrowhead\":0,\"arrowwidth\":1},\"autotypenumbers\":\"strict\",\"coloraxis\":{\"colorbar\":{\"outlinewidth\":0,\"ticks\":\"\"}},\"colorscale\":{\"diverging\":[[0,\"#8e0152\"],[0.1,\"#c51b7d\"],[0.2,\"#de77ae\"],[0.3,\"#f1b6da\"],[0.4,\"#fde0ef\"],[0.5,\"#f7f7f7\"],[0.6,\"#e6f5d0\"],[0.7,\"#b8e186\"],[0.8,\"#7fbc41\"],[0.9,\"#4d9221\"],[1,\"#276419\"]],\"sequential\":[[0.0,\"#0d0887\"],[0.1111111111111111,\"#46039f\"],[0.2222222222222222,\"#7201a8\"],[0.3333333333333333,\"#9c179e\"],[0.4444444444444444,\"#bd3786\"],[0.5555555555555556,\"#d8576b\"],[0.6666666666666666,\"#ed7953\"],[0.7777777777777778,\"#fb9f3a\"],[0.8888888888888888,\"#fdca26\"],[1.0,\"#f0f921\"]],\"sequentialminus\":[[0.0,\"#0d0887\"],[0.1111111111111111,\"#46039f\"],[0.2222222222222222,\"#7201a8\"],[0.3333333333333333,\"#9c179e\"],[0.4444444444444444,\"#bd3786\"],[0.5555555555555556,\"#d8576b\"],[0.6666666666666666,\"#ed7953\"],[0.7777777777777778,\"#fb9f3a\"],[0.8888888888888888,\"#fdca26\"],[1.0,\"#f0f921\"]]},\"colorway\":[\"#636efa\",\"#EF553B\",\"#00cc96\",\"#ab63fa\",\"#FFA15A\",\"#19d3f3\",\"#FF6692\",\"#B6E880\",\"#FF97FF\",\"#FECB52\"],\"font\":{\"color\":\"#2a3f5f\"},\"geo\":{\"bgcolor\":\"white\",\"lakecolor\":\"white\",\"landcolor\":\"#E5ECF6\",\"showlakes\":true,\"showland\":true,\"subunitcolor\":\"white\"},\"hoverlabel\":{\"align\":\"left\"},\"hovermode\":\"closest\",\"mapbox\":{\"style\":\"light\"},\"paper_bgcolor\":\"white\",\"plot_bgcolor\":\"#E5ECF6\",\"polar\":{\"angularaxis\":{\"gridcolor\":\"white\",\"linecolor\":\"white\",\"ticks\":\"\"},\"bgcolor\":\"#E5ECF6\",\"radialaxis\":{\"gridcolor\":\"white\",\"linecolor\":\"white\",\"ticks\":\"\"}},\"scene\":{\"xaxis\":{\"backgroundcolor\":\"#E5ECF6\",\"gridcolor\":\"white\",\"gridwidth\":2,\"linecolor\":\"white\",\"showbackground\":true,\"ticks\":\"\",\"zerolinecolor\":\"white\"},\"yaxis\":{\"backgroundcolor\":\"#E5ECF6\",\"gridcolor\":\"white\",\"gridwidth\":2,\"linecolor\":\"white\",\"showbackground\":true,\"ticks\":\"\",\"zerolinecolor\":\"white\"},\"zaxis\":{\"backgroundcolor\":\"#E5ECF6\",\"gridcolor\":\"white\",\"gridwidth\":2,\"linecolor\":\"white\",\"showbackground\":true,\"ticks\":\"\",\"zerolinecolor\":\"white\"}},\"shapedefaults\":{\"line\":{\"color\":\"#2a3f5f\"}},\"ternary\":{\"aaxis\":{\"gridcolor\":\"white\",\"linecolor\":\"white\",\"ticks\":\"\"},\"baxis\":{\"gridcolor\":\"white\",\"linecolor\":\"white\",\"ticks\":\"\"},\"bgcolor\":\"#E5ECF6\",\"caxis\":{\"gridcolor\":\"white\",\"linecolor\":\"white\",\"ticks\":\"\"}},\"title\":{\"x\":0.05},\"xaxis\":{\"automargin\":true,\"gridcolor\":\"white\",\"linecolor\":\"white\",\"ticks\":\"\",\"title\":{\"standoff\":15},\"zerolinecolor\":\"white\",\"zerolinewidth\":2},\"yaxis\":{\"automargin\":true,\"gridcolor\":\"white\",\"linecolor\":\"white\",\"ticks\":\"\",\"title\":{\"standoff\":15},\"zerolinecolor\":\"white\",\"zerolinewidth\":2}}},\"yaxis\":{\"type\":\"log\",\"tickformat\":\"10.0e\",\"title\":{\"text\":\"log (Gradient norm)\"}},\"font\":{\"family\":\"'Nunito', sans-serif\"},\"title\":{\"text\":\"Convergence of gradient norm\",\"y\":0.955,\"x\":0.5,\"xanchor\":\"center\",\"yanchor\":\"top\"},\"margin\":{\"l\":20,\"r\":20,\"t\":60,\"b\":20},\"xaxis\":{\"title\":{\"text\":\"Iterations\"}},\"showlegend\":false},                        {\"responsive\": true}                    ).then(function(){\n",
              "                            \n",
              "var gd = document.getElementById('c25e1799-4eda-441f-9187-51669329a7d9');\n",
              "var x = new MutationObserver(function (mutations, observer) {{\n",
              "        var display = window.getComputedStyle(gd).display;\n",
              "        if (!display || display === 'none') {{\n",
              "            console.log([gd, 'removed!']);\n",
              "            Plotly.purge(gd);\n",
              "            observer.disconnect();\n",
              "        }}\n",
              "}});\n",
              "\n",
              "// Listen for the removal of the full notebook cells\n",
              "var notebookContainer = gd.closest('#notebook-container');\n",
              "if (notebookContainer) {{\n",
              "    x.observe(notebookContainer, {childList: true});\n",
              "}}\n",
              "\n",
              "// Listen for the clearing of the current output cell\n",
              "var outputEl = gd.closest('.output');\n",
              "if (outputEl) {{\n",
              "    x.observe(outputEl, {childList: true});\n",
              "}}\n",
              "\n",
              "                        })                };                            </script>        </div>\n",
              "</body>\n",
              "</html>"
            ]
          },
          "metadata": {}
        }
      ]
    },
    {
      "cell_type": "markdown",
      "source": [
        "Answer:  33  iterations."
      ],
      "metadata": {
        "id": "cRCSshw0yXwQ"
      }
    },
    {
      "cell_type": "markdown",
      "source": [
        "<br> \n",
        "<h2 id=\"Newton-method\">4. Newton method</h2>  \n",
        "\n",
        "--- "
      ],
      "metadata": {
        "id": "6WG_RkIH77Vv"
      }
    },
    {
      "cell_type": "markdown",
      "source": [
        "<div align=\"justify\">Description of algorithm:<br>\n",
        " Newton's method is an iterative method for finding a local minimum of a twice-differentiable function. At each iteration, it amounts to the fitting of a parabola to the graph of \\(f(x)\\).</div>\n",
        "\n",
        "$$x_{n+1} = x_n - \\frac {F^{'}(x_n)}{ F^{''}(x_n)}$$\n",
        "\n",
        "<div align=\"justify\">The task:<br>\n",
        "After how many iterations does Newton's method with a constant step of \\(α = 10^{-1} \\) begins to stagnate, that is, the gradient norm stops changing? In your answer, indicate the number of iteration k such that the value of the gradient norm at the next iteration k+1 remains the same.<br>\n",
        "What rate of convergence of Newton's method is observed in the norm of the gradient?</div>"
      ],
      "metadata": {
        "id": "08gqTMd-0RPf"
      }
    },
    {
      "cell_type": "code",
      "source": [
        "from jax.config import config                       \n",
        "config.update(\"jax_enable_x64\", False)               # set back to float32\n",
        "\n",
        "# restate new conditions\n",
        "np.random.seed(0)\n",
        "\n",
        "m = 100\n",
        "n = 10\n",
        "A = np.random.randn(m, n)     # generate matrix \n",
        "b = np.random.randn(m)        # generate vector\n",
        "\n",
        "x0 = jax.numpy.zeros(n)       # initial approximation\n",
        "eps = 1e-4                    # accuracy\n",
        "alpha = 1e-1                  # constant step \n",
        "num_iter = 500               # max number of iterations\n",
        "\n",
        "f = lambda x: (jax.numpy.linalg.norm(A@x - b))**3\n",
        "gradf = jax.grad(f)\n",
        "\n",
        "# create Newton algorithm\n",
        "def newton_minimize(f, gradf, hessf, x0, alpha, num_iter):\n",
        "    x = x0.copy()\n",
        "    conv = [x]\n",
        "    norm = []\n",
        "    prev_norm = None\n",
        "    for i in range(num_iter):\n",
        "        H = hessf(x)\n",
        "        g = gradf(x)\n",
        "        x = x - alpha * jax.numpy.linalg.solve(H, g)\n",
        "\n",
        "        norm.append(np.linalg.norm(g))\n",
        "\n",
        "        if norm[-1] == prev_norm:\n",
        "            # -1 b/c started to stagnate on previous step\n",
        "            # +1 b/c count from 0\n",
        "            break\n",
        "\n",
        "        prev_norm = norm[-1]\n",
        "        conv.append(x)\n",
        "    return x, conv, norm, i\n",
        "\n",
        "# result of Newton algorithm\n",
        "hess = jax.hessian(f)\n",
        "x, conv, norm, i = newton_minimize(f, gradf, hess, x0, alpha, num_iter)\n",
        "# print(\"Answer: \",i, \"iterations.\\nLinear rate of convergence is observed.\\n\")\n",
        "\n",
        "# plot graph\n",
        "fig = go.Figure(go.Scatter( y=[x for x in norm] ))\n",
        "\n",
        "# modify layout of the graph \n",
        "fig.update_layout(\n",
        "                  yaxis=dict(type=\"log\", tickformat = '10.0e'),\n",
        "                  font_family=\"'Nunito', sans-serif\",\n",
        "                  title={'text': \"Convergence of gradient norm\", 'y':0.955, 'x':0.5, 'xanchor': 'center', 'yanchor': 'top'},\n",
        "                  xaxis_title='Iterations',\n",
        "                  yaxis_title='log (Gradient norm)',\n",
        "                  showlegend=False,\n",
        "                  margin=dict(l=20, r=20, t=60, b=20),\n",
        "                  )\n",
        "\n",
        "fig.show()"
      ],
      "metadata": {
        "colab": {
          "base_uri": "https://localhost:8080/",
          "height": 542
        },
        "id": "iIalUgbC0T0d",
        "outputId": "87e18ed5-272d-4396-ecdf-9f3dccee1353"
      },
      "execution_count": 10,
      "outputs": [
        {
          "output_type": "display_data",
          "data": {
            "text/html": [
              "<html>\n",
              "<head><meta charset=\"utf-8\" /></head>\n",
              "<body>\n",
              "    <div>            <script src=\"https://cdnjs.cloudflare.com/ajax/libs/mathjax/2.7.5/MathJax.js?config=TeX-AMS-MML_SVG\"></script><script type=\"text/javascript\">if (window.MathJax) {MathJax.Hub.Config({SVG: {font: \"STIX-Web\"}});}</script>                <script type=\"text/javascript\">window.PlotlyConfig = {MathJaxConfig: 'local'};</script>\n",
              "        <script src=\"https://cdn.plot.ly/plotly-2.8.3.min.js\"></script>                <div id=\"8ea300a6-a672-4042-8677-b0f9ae2a8731\" class=\"plotly-graph-div\" style=\"height:525px; width:100%;\"></div>            <script type=\"text/javascript\">                                    window.PLOTLYENV=window.PLOTLYENV || {};                                    if (document.getElementById(\"8ea300a6-a672-4042-8677-b0f9ae2a8731\")) {                    Plotly.newPlot(                        \"8ea300a6-a672-4042-8677-b0f9ae2a8731\",                        [{\"y\":[1133.6600341796875,1022.3518676757812,921.8033447265625,830.9887084960938,748.9827880859375,674.949462890625,608.1317138671875,547.8438720703125,493.4630432128906,444.42437744140625,400.2148132324219,360.3686218261719,324.462890625,292.1142883300781,262.975341796875,236.73150634765625,213.0978546142578,191.81723022460938,172.65692138671875,155.40695190429688,139.87782287597656,125.89844512939453,113.31476593017578,101.98779296875,91.79227447509766,82.61546325683594,74.35570526123047,66.92138671875,60.230186462402344,54.207862854003906,48.78762435913086,43.909217834472656,39.5185661315918,35.56691360473633,32.01036071777344,28.80942726135254,25.928564071655273,23.33575439453125,21.002273559570312,18.902034759521484,17.011917114257812,15.310752868652344,13.779623031616211,12.401751518249512,11.161460876464844,10.045404434204102,9.040801048278809,8.136822700500488,7.3231000900268555,6.590765953063965,5.931673526763916,5.338498592376709,4.804684638977051,4.324219226837158,3.891782522201538,3.502624273300171,3.152339458465576,2.8370790481567383,2.5533607006073,2.2980964183807373,2.06825852394104,1.8614660501480103,1.6753021478652954,1.5077937841415405,1.3569985628128052,1.2212353944778442,1.099076271057129,0.9891420006752014,0.8902754783630371,0.8012252449989319,0.7210469245910645,0.648926854133606,0.5840538740158081,0.5256255865097046,0.4730433523654938,0.4257698357105255,0.3832005560398102,0.34488946199417114,0.3104253113269806,0.2793635427951813,0.25143715739250183,0.22624263167381287,0.2036658376455307,0.18325696885585785,0.1649598926305771,0.14845916628837585,0.1336348056793213,0.12024809420108795,0.10826214402914047,0.09739850461483002,0.08759906142950058,0.07885526865720749,0.07096856087446213,0.06388401985168457,0.05745437368750572,0.05168755352497101,0.04652050882577896,0.04185766354203224,0.03769903630018234,0.03391805291175842,0.030492834746837616,0.02744331583380699,0.02469331957399845,0.022247808054089546,0.02002725377678871,0.018048621714115143,0.01626850664615631,0.014618095941841602,0.013192142359912395,0.011827468872070312,0.01067397277802229,0.009592791087925434,0.008666743524372578,0.007829338312149048,0.007110257167369127,0.00638948380947113,0.00571840675547719,0.005205403082072735,0.004668077453970909,0.004202042706310749,0.003785554552450776,0.0033805090934038162,0.0030843112617731094,0.00277442648075521,0.002502050017938018,0.0022741316352039576,0.0020533029455691576,0.0018198324833065271,0.001558324322104454,0.0014037395594641566,0.0012841352727264166,0.0011833817698061466,0.0011001266539096832,0.0010031575802713633,0.0009079473675228655,0.0007879858603700995,0.0006917367572896183,0.0005962431314401329,0.00046291982289403677,0.0004224702133797109,0.0004055066965520382,0.0003985639486927539,0.00041034453897736967,0.0003998829051852226,0.0003998829051852226],\"type\":\"scatter\"}],                        {\"template\":{\"data\":{\"bar\":[{\"error_x\":{\"color\":\"#2a3f5f\"},\"error_y\":{\"color\":\"#2a3f5f\"},\"marker\":{\"line\":{\"color\":\"#E5ECF6\",\"width\":0.5},\"pattern\":{\"fillmode\":\"overlay\",\"size\":10,\"solidity\":0.2}},\"type\":\"bar\"}],\"barpolar\":[{\"marker\":{\"line\":{\"color\":\"#E5ECF6\",\"width\":0.5},\"pattern\":{\"fillmode\":\"overlay\",\"size\":10,\"solidity\":0.2}},\"type\":\"barpolar\"}],\"carpet\":[{\"aaxis\":{\"endlinecolor\":\"#2a3f5f\",\"gridcolor\":\"white\",\"linecolor\":\"white\",\"minorgridcolor\":\"white\",\"startlinecolor\":\"#2a3f5f\"},\"baxis\":{\"endlinecolor\":\"#2a3f5f\",\"gridcolor\":\"white\",\"linecolor\":\"white\",\"minorgridcolor\":\"white\",\"startlinecolor\":\"#2a3f5f\"},\"type\":\"carpet\"}],\"choropleth\":[{\"colorbar\":{\"outlinewidth\":0,\"ticks\":\"\"},\"type\":\"choropleth\"}],\"contour\":[{\"colorbar\":{\"outlinewidth\":0,\"ticks\":\"\"},\"colorscale\":[[0.0,\"#0d0887\"],[0.1111111111111111,\"#46039f\"],[0.2222222222222222,\"#7201a8\"],[0.3333333333333333,\"#9c179e\"],[0.4444444444444444,\"#bd3786\"],[0.5555555555555556,\"#d8576b\"],[0.6666666666666666,\"#ed7953\"],[0.7777777777777778,\"#fb9f3a\"],[0.8888888888888888,\"#fdca26\"],[1.0,\"#f0f921\"]],\"type\":\"contour\"}],\"contourcarpet\":[{\"colorbar\":{\"outlinewidth\":0,\"ticks\":\"\"},\"type\":\"contourcarpet\"}],\"heatmap\":[{\"colorbar\":{\"outlinewidth\":0,\"ticks\":\"\"},\"colorscale\":[[0.0,\"#0d0887\"],[0.1111111111111111,\"#46039f\"],[0.2222222222222222,\"#7201a8\"],[0.3333333333333333,\"#9c179e\"],[0.4444444444444444,\"#bd3786\"],[0.5555555555555556,\"#d8576b\"],[0.6666666666666666,\"#ed7953\"],[0.7777777777777778,\"#fb9f3a\"],[0.8888888888888888,\"#fdca26\"],[1.0,\"#f0f921\"]],\"type\":\"heatmap\"}],\"heatmapgl\":[{\"colorbar\":{\"outlinewidth\":0,\"ticks\":\"\"},\"colorscale\":[[0.0,\"#0d0887\"],[0.1111111111111111,\"#46039f\"],[0.2222222222222222,\"#7201a8\"],[0.3333333333333333,\"#9c179e\"],[0.4444444444444444,\"#bd3786\"],[0.5555555555555556,\"#d8576b\"],[0.6666666666666666,\"#ed7953\"],[0.7777777777777778,\"#fb9f3a\"],[0.8888888888888888,\"#fdca26\"],[1.0,\"#f0f921\"]],\"type\":\"heatmapgl\"}],\"histogram\":[{\"marker\":{\"pattern\":{\"fillmode\":\"overlay\",\"size\":10,\"solidity\":0.2}},\"type\":\"histogram\"}],\"histogram2d\":[{\"colorbar\":{\"outlinewidth\":0,\"ticks\":\"\"},\"colorscale\":[[0.0,\"#0d0887\"],[0.1111111111111111,\"#46039f\"],[0.2222222222222222,\"#7201a8\"],[0.3333333333333333,\"#9c179e\"],[0.4444444444444444,\"#bd3786\"],[0.5555555555555556,\"#d8576b\"],[0.6666666666666666,\"#ed7953\"],[0.7777777777777778,\"#fb9f3a\"],[0.8888888888888888,\"#fdca26\"],[1.0,\"#f0f921\"]],\"type\":\"histogram2d\"}],\"histogram2dcontour\":[{\"colorbar\":{\"outlinewidth\":0,\"ticks\":\"\"},\"colorscale\":[[0.0,\"#0d0887\"],[0.1111111111111111,\"#46039f\"],[0.2222222222222222,\"#7201a8\"],[0.3333333333333333,\"#9c179e\"],[0.4444444444444444,\"#bd3786\"],[0.5555555555555556,\"#d8576b\"],[0.6666666666666666,\"#ed7953\"],[0.7777777777777778,\"#fb9f3a\"],[0.8888888888888888,\"#fdca26\"],[1.0,\"#f0f921\"]],\"type\":\"histogram2dcontour\"}],\"mesh3d\":[{\"colorbar\":{\"outlinewidth\":0,\"ticks\":\"\"},\"type\":\"mesh3d\"}],\"parcoords\":[{\"line\":{\"colorbar\":{\"outlinewidth\":0,\"ticks\":\"\"}},\"type\":\"parcoords\"}],\"pie\":[{\"automargin\":true,\"type\":\"pie\"}],\"scatter\":[{\"marker\":{\"colorbar\":{\"outlinewidth\":0,\"ticks\":\"\"}},\"type\":\"scatter\"}],\"scatter3d\":[{\"line\":{\"colorbar\":{\"outlinewidth\":0,\"ticks\":\"\"}},\"marker\":{\"colorbar\":{\"outlinewidth\":0,\"ticks\":\"\"}},\"type\":\"scatter3d\"}],\"scattercarpet\":[{\"marker\":{\"colorbar\":{\"outlinewidth\":0,\"ticks\":\"\"}},\"type\":\"scattercarpet\"}],\"scattergeo\":[{\"marker\":{\"colorbar\":{\"outlinewidth\":0,\"ticks\":\"\"}},\"type\":\"scattergeo\"}],\"scattergl\":[{\"marker\":{\"colorbar\":{\"outlinewidth\":0,\"ticks\":\"\"}},\"type\":\"scattergl\"}],\"scattermapbox\":[{\"marker\":{\"colorbar\":{\"outlinewidth\":0,\"ticks\":\"\"}},\"type\":\"scattermapbox\"}],\"scatterpolar\":[{\"marker\":{\"colorbar\":{\"outlinewidth\":0,\"ticks\":\"\"}},\"type\":\"scatterpolar\"}],\"scatterpolargl\":[{\"marker\":{\"colorbar\":{\"outlinewidth\":0,\"ticks\":\"\"}},\"type\":\"scatterpolargl\"}],\"scatterternary\":[{\"marker\":{\"colorbar\":{\"outlinewidth\":0,\"ticks\":\"\"}},\"type\":\"scatterternary\"}],\"surface\":[{\"colorbar\":{\"outlinewidth\":0,\"ticks\":\"\"},\"colorscale\":[[0.0,\"#0d0887\"],[0.1111111111111111,\"#46039f\"],[0.2222222222222222,\"#7201a8\"],[0.3333333333333333,\"#9c179e\"],[0.4444444444444444,\"#bd3786\"],[0.5555555555555556,\"#d8576b\"],[0.6666666666666666,\"#ed7953\"],[0.7777777777777778,\"#fb9f3a\"],[0.8888888888888888,\"#fdca26\"],[1.0,\"#f0f921\"]],\"type\":\"surface\"}],\"table\":[{\"cells\":{\"fill\":{\"color\":\"#EBF0F8\"},\"line\":{\"color\":\"white\"}},\"header\":{\"fill\":{\"color\":\"#C8D4E3\"},\"line\":{\"color\":\"white\"}},\"type\":\"table\"}]},\"layout\":{\"annotationdefaults\":{\"arrowcolor\":\"#2a3f5f\",\"arrowhead\":0,\"arrowwidth\":1},\"autotypenumbers\":\"strict\",\"coloraxis\":{\"colorbar\":{\"outlinewidth\":0,\"ticks\":\"\"}},\"colorscale\":{\"diverging\":[[0,\"#8e0152\"],[0.1,\"#c51b7d\"],[0.2,\"#de77ae\"],[0.3,\"#f1b6da\"],[0.4,\"#fde0ef\"],[0.5,\"#f7f7f7\"],[0.6,\"#e6f5d0\"],[0.7,\"#b8e186\"],[0.8,\"#7fbc41\"],[0.9,\"#4d9221\"],[1,\"#276419\"]],\"sequential\":[[0.0,\"#0d0887\"],[0.1111111111111111,\"#46039f\"],[0.2222222222222222,\"#7201a8\"],[0.3333333333333333,\"#9c179e\"],[0.4444444444444444,\"#bd3786\"],[0.5555555555555556,\"#d8576b\"],[0.6666666666666666,\"#ed7953\"],[0.7777777777777778,\"#fb9f3a\"],[0.8888888888888888,\"#fdca26\"],[1.0,\"#f0f921\"]],\"sequentialminus\":[[0.0,\"#0d0887\"],[0.1111111111111111,\"#46039f\"],[0.2222222222222222,\"#7201a8\"],[0.3333333333333333,\"#9c179e\"],[0.4444444444444444,\"#bd3786\"],[0.5555555555555556,\"#d8576b\"],[0.6666666666666666,\"#ed7953\"],[0.7777777777777778,\"#fb9f3a\"],[0.8888888888888888,\"#fdca26\"],[1.0,\"#f0f921\"]]},\"colorway\":[\"#636efa\",\"#EF553B\",\"#00cc96\",\"#ab63fa\",\"#FFA15A\",\"#19d3f3\",\"#FF6692\",\"#B6E880\",\"#FF97FF\",\"#FECB52\"],\"font\":{\"color\":\"#2a3f5f\"},\"geo\":{\"bgcolor\":\"white\",\"lakecolor\":\"white\",\"landcolor\":\"#E5ECF6\",\"showlakes\":true,\"showland\":true,\"subunitcolor\":\"white\"},\"hoverlabel\":{\"align\":\"left\"},\"hovermode\":\"closest\",\"mapbox\":{\"style\":\"light\"},\"paper_bgcolor\":\"white\",\"plot_bgcolor\":\"#E5ECF6\",\"polar\":{\"angularaxis\":{\"gridcolor\":\"white\",\"linecolor\":\"white\",\"ticks\":\"\"},\"bgcolor\":\"#E5ECF6\",\"radialaxis\":{\"gridcolor\":\"white\",\"linecolor\":\"white\",\"ticks\":\"\"}},\"scene\":{\"xaxis\":{\"backgroundcolor\":\"#E5ECF6\",\"gridcolor\":\"white\",\"gridwidth\":2,\"linecolor\":\"white\",\"showbackground\":true,\"ticks\":\"\",\"zerolinecolor\":\"white\"},\"yaxis\":{\"backgroundcolor\":\"#E5ECF6\",\"gridcolor\":\"white\",\"gridwidth\":2,\"linecolor\":\"white\",\"showbackground\":true,\"ticks\":\"\",\"zerolinecolor\":\"white\"},\"zaxis\":{\"backgroundcolor\":\"#E5ECF6\",\"gridcolor\":\"white\",\"gridwidth\":2,\"linecolor\":\"white\",\"showbackground\":true,\"ticks\":\"\",\"zerolinecolor\":\"white\"}},\"shapedefaults\":{\"line\":{\"color\":\"#2a3f5f\"}},\"ternary\":{\"aaxis\":{\"gridcolor\":\"white\",\"linecolor\":\"white\",\"ticks\":\"\"},\"baxis\":{\"gridcolor\":\"white\",\"linecolor\":\"white\",\"ticks\":\"\"},\"bgcolor\":\"#E5ECF6\",\"caxis\":{\"gridcolor\":\"white\",\"linecolor\":\"white\",\"ticks\":\"\"}},\"title\":{\"x\":0.05},\"xaxis\":{\"automargin\":true,\"gridcolor\":\"white\",\"linecolor\":\"white\",\"ticks\":\"\",\"title\":{\"standoff\":15},\"zerolinecolor\":\"white\",\"zerolinewidth\":2},\"yaxis\":{\"automargin\":true,\"gridcolor\":\"white\",\"linecolor\":\"white\",\"ticks\":\"\",\"title\":{\"standoff\":15},\"zerolinecolor\":\"white\",\"zerolinewidth\":2}}},\"yaxis\":{\"type\":\"log\",\"tickformat\":\"10.0e\",\"title\":{\"text\":\"log (Gradient norm)\"}},\"font\":{\"family\":\"'Nunito', sans-serif\"},\"title\":{\"text\":\"Convergence of gradient norm\",\"y\":0.955,\"x\":0.5,\"xanchor\":\"center\",\"yanchor\":\"top\"},\"margin\":{\"l\":20,\"r\":20,\"t\":60,\"b\":20},\"xaxis\":{\"title\":{\"text\":\"Iterations\"}},\"showlegend\":false},                        {\"responsive\": true}                    ).then(function(){\n",
              "                            \n",
              "var gd = document.getElementById('8ea300a6-a672-4042-8677-b0f9ae2a8731');\n",
              "var x = new MutationObserver(function (mutations, observer) {{\n",
              "        var display = window.getComputedStyle(gd).display;\n",
              "        if (!display || display === 'none') {{\n",
              "            console.log([gd, 'removed!']);\n",
              "            Plotly.purge(gd);\n",
              "            observer.disconnect();\n",
              "        }}\n",
              "}});\n",
              "\n",
              "// Listen for the removal of the full notebook cells\n",
              "var notebookContainer = gd.closest('#notebook-container');\n",
              "if (notebookContainer) {{\n",
              "    x.observe(notebookContainer, {childList: true});\n",
              "}}\n",
              "\n",
              "// Listen for the clearing of the current output cell\n",
              "var outputEl = gd.closest('.output');\n",
              "if (outputEl) {{\n",
              "    x.observe(outputEl, {childList: true});\n",
              "}}\n",
              "\n",
              "                        })                };                            </script>        </div>\n",
              "</body>\n",
              "</html>"
            ]
          },
          "metadata": {}
        }
      ]
    },
    {
      "cell_type": "markdown",
      "source": [
        "Answer:  144 iterations.<br>\n",
        "Linear rate of convergence is observed."
      ],
      "metadata": {
        "id": "QfH47k8TyBXJ"
      }
    },
    {
      "cell_type": "markdown",
      "source": [
        "<br> \n",
        "<h2 id=\"Results\">Results</h2>  \n",
        "\n",
        "--- "
      ],
      "metadata": {
        "id": "WKiWJvXPHNE6"
      }
    },
    {
      "cell_type": "markdown",
      "source": [
        "<div align=\"justify\">In this project, 4 problems concerning function minimisation were solved. 4 optimisation algorithms were used: gradient descent, heavy ball method, accelerated gradient descent, and Newton Method.\n",
        "</div>\n",
        "  \n",
        "\n",
        "<br><br><br>\n",
        "<center><a href=\"https://konstantinburkin.github.io\">Main page</a></center><br><br>"
      ],
      "metadata": {
        "id": "i99XnzxgHJB5"
      }
    }
  ],
  "metadata": {
    "colab": {
      "collapsed_sections": [],
      "name": "Optimisation_algorithms.ipynb",
      "provenance": [],
      "authorship_tag": "ABX9TyMyU0mlpU4jVnRsYkW5QB6+",
      "include_colab_link": true
    },
    "kernelspec": {
      "display_name": "Python 3",
      "name": "python3"
    },
    "language_info": {
      "name": "python"
    }
  },
  "nbformat": 4,
  "nbformat_minor": 0
}